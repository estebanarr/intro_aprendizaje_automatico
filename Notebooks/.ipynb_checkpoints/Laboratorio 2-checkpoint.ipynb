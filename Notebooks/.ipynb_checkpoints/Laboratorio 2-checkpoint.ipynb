{
 "cells": [
  {
   "cell_type": "markdown",
   "metadata": {},
   "source": [
    "# Laboratorio 2: Armado de un esquema de aprendizaje automático\n",
    "\n",
    "En el laboratorio final se espera que puedan poner en práctica los conocimientos adquiridos en el curso, trabajando con un conjunto de datos de clasificación.\n",
    "\n",
    "El objetivo es que se introduzcan en el desarrollo de un esquema para hacer tareas de aprendizaje automático: selección de un modelo, ajuste de hiperparámetros y evaluación.\n",
    "\n",
    "El conjunto de datos a utilizar está en `./data/loan_data.csv`. Si abren el archivo verán que al principio (las líneas que empiezan con `#`) describen el conjunto de datos y sus atributos (incluyendo el atributo de etiqueta o clase).\n",
    "\n",
    "Se espera que hagan uso de las herramientas vistas en el curso. Se espera que hagan uso especialmente de las herramientas brindadas por `scikit-learn`."
   ]
  },
  {
   "cell_type": "code",
   "execution_count": 1,
   "metadata": {},
   "outputs": [],
   "source": [
    "import numpy as np\n",
    "import pandas as pd\n",
    "import seaborn as sns\n",
    "import matplotlib.pyplot as plt\n",
    "\n",
    "# TODO: Agregar las librerías que hagan falta\n",
    "from sklearn.model_selection import train_test_split, GridSearchCV\n",
    "from sklearn.linear_model import SGDClassifier\n",
    "from sklearn.tree import DecisionTreeClassifier\n",
    "from sklearn.metrics import accuracy_score\n",
    "from sklearn.metrics import precision_score\n",
    "from sklearn.metrics import recall_score\n",
    "from sklearn.metrics import f1_score\n",
    "from sklearn.metrics import classification_report\n",
    "from sklearn.metrics import confusion_matrix\n",
    "from sklearn.model_selection import ParameterGrid\n",
    "from sklearn.model_selection import GridSearchCV\n",
    "from sklearn.tree import plot_tree"
   ]
  },
  {
   "cell_type": "markdown",
   "metadata": {},
   "source": [
    "## Carga de datos y división en entrenamiento y evaluación\n",
    "\n",
    "La celda siguiente se encarga de la carga de datos (haciendo uso de pandas). Estos serán los que se trabajarán en el resto del laboratorio."
   ]
  },
  {
   "cell_type": "code",
   "execution_count": 2,
   "metadata": {},
   "outputs": [],
   "source": [
    "dataset = pd.read_csv(\"../data/loan_data.csv\", comment=\"#\")\n",
    "\n",
    "# División entre instancias y etiquetas\n",
    "X, y = dataset.iloc[:, 1:], dataset.TARGET\n",
    "\n",
    "# división entre entrenamiento y evaluación\n",
    "X_train, X_test, y_train, y_test = train_test_split(X, y, test_size=0.2, random_state=0)"
   ]
  },
  {
   "cell_type": "markdown",
   "metadata": {},
   "source": [
    "\n",
    "Documentación:\n",
    "\n",
    "- https://scikit-learn.org/stable/modules/generated/sklearn.model_selection.train_test_split.html"
   ]
  },
  {
   "cell_type": "markdown",
   "metadata": {},
   "source": [
    "## Ejercicio 1: Descripción de los Datos y la Tarea\n",
    "\n",
    "Responder las siguientes preguntas:\n",
    "\n",
    "1. ¿De qué se trata el conjunto de datos?\n",
    "2. ¿Cuál es la variable objetivo que hay que predecir? ¿Qué significado tiene?\n",
    "3. ¿Qué información (atributos) hay disponible para hacer la predicción?\n",
    "4. ¿Qué atributos imagina ud. que son los más determinantes para la predicción?\n",
    "\n",
    "**No hace falta escribir código para responder estas preguntas.**"
   ]
  },
  {
   "cell_type": "code",
   "execution_count": 3,
   "metadata": {},
   "outputs": [
    {
     "data": {
      "text/html": [
       "<div>\n",
       "<style scoped>\n",
       "    .dataframe tbody tr th:only-of-type {\n",
       "        vertical-align: middle;\n",
       "    }\n",
       "\n",
       "    .dataframe tbody tr th {\n",
       "        vertical-align: top;\n",
       "    }\n",
       "\n",
       "    .dataframe thead th {\n",
       "        text-align: right;\n",
       "    }\n",
       "</style>\n",
       "<table border=\"1\" class=\"dataframe\">\n",
       "  <thead>\n",
       "    <tr style=\"text-align: right;\">\n",
       "      <th></th>\n",
       "      <th>TARGET</th>\n",
       "      <th>LOAN</th>\n",
       "      <th>MORTDUE</th>\n",
       "      <th>VALUE</th>\n",
       "      <th>YOJ</th>\n",
       "      <th>DEROG</th>\n",
       "      <th>DELINQ</th>\n",
       "      <th>CLAGE</th>\n",
       "      <th>NINQ</th>\n",
       "      <th>CLNO</th>\n",
       "      <th>DEBTINC</th>\n",
       "    </tr>\n",
       "  </thead>\n",
       "  <tbody>\n",
       "    <tr>\n",
       "      <th>0</th>\n",
       "      <td>0</td>\n",
       "      <td>4700</td>\n",
       "      <td>88026.0</td>\n",
       "      <td>115506.0</td>\n",
       "      <td>6.0</td>\n",
       "      <td>0.0</td>\n",
       "      <td>0.0</td>\n",
       "      <td>182.248332</td>\n",
       "      <td>0.0</td>\n",
       "      <td>27.0</td>\n",
       "      <td>29.209023</td>\n",
       "    </tr>\n",
       "    <tr>\n",
       "      <th>1</th>\n",
       "      <td>0</td>\n",
       "      <td>19300</td>\n",
       "      <td>39926.0</td>\n",
       "      <td>101208.0</td>\n",
       "      <td>4.0</td>\n",
       "      <td>0.0</td>\n",
       "      <td>0.0</td>\n",
       "      <td>140.051638</td>\n",
       "      <td>0.0</td>\n",
       "      <td>14.0</td>\n",
       "      <td>31.545694</td>\n",
       "    </tr>\n",
       "    <tr>\n",
       "      <th>2</th>\n",
       "      <td>0</td>\n",
       "      <td>5700</td>\n",
       "      <td>71556.0</td>\n",
       "      <td>79538.0</td>\n",
       "      <td>2.0</td>\n",
       "      <td>0.0</td>\n",
       "      <td>0.0</td>\n",
       "      <td>92.643085</td>\n",
       "      <td>0.0</td>\n",
       "      <td>15.0</td>\n",
       "      <td>41.210012</td>\n",
       "    </tr>\n",
       "    <tr>\n",
       "      <th>3</th>\n",
       "      <td>0</td>\n",
       "      <td>13000</td>\n",
       "      <td>44875.0</td>\n",
       "      <td>57713.0</td>\n",
       "      <td>0.0</td>\n",
       "      <td>1.0</td>\n",
       "      <td>0.0</td>\n",
       "      <td>184.990324</td>\n",
       "      <td>1.0</td>\n",
       "      <td>12.0</td>\n",
       "      <td>28.602076</td>\n",
       "    </tr>\n",
       "    <tr>\n",
       "      <th>4</th>\n",
       "      <td>0</td>\n",
       "      <td>19300</td>\n",
       "      <td>72752.0</td>\n",
       "      <td>106084.0</td>\n",
       "      <td>11.0</td>\n",
       "      <td>0.0</td>\n",
       "      <td>0.0</td>\n",
       "      <td>193.707100</td>\n",
       "      <td>1.0</td>\n",
       "      <td>13.0</td>\n",
       "      <td>30.686106</td>\n",
       "    </tr>\n",
       "  </tbody>\n",
       "</table>\n",
       "</div>"
      ],
      "text/plain": [
       "   TARGET   LOAN  MORTDUE     VALUE   YOJ  DEROG  DELINQ       CLAGE  NINQ  \\\n",
       "0       0   4700  88026.0  115506.0   6.0    0.0     0.0  182.248332   0.0   \n",
       "1       0  19300  39926.0  101208.0   4.0    0.0     0.0  140.051638   0.0   \n",
       "2       0   5700  71556.0   79538.0   2.0    0.0     0.0   92.643085   0.0   \n",
       "3       0  13000  44875.0   57713.0   0.0    1.0     0.0  184.990324   1.0   \n",
       "4       0  19300  72752.0  106084.0  11.0    0.0     0.0  193.707100   1.0   \n",
       "\n",
       "   CLNO    DEBTINC  \n",
       "0  27.0  29.209023  \n",
       "1  14.0  31.545694  \n",
       "2  15.0  41.210012  \n",
       "3  12.0  28.602076  \n",
       "4  13.0  30.686106  "
      ]
     },
     "execution_count": 3,
     "metadata": {},
     "output_type": "execute_result"
    }
   ],
   "source": [
    "dataset.head()"
   ]
  },
  {
   "cell_type": "code",
   "execution_count": 4,
   "metadata": {},
   "outputs": [
    {
     "data": {
      "text/plain": [
       "0    1545\n",
       "1     309\n",
       "Name: TARGET, dtype: int64"
      ]
     },
     "execution_count": 4,
     "metadata": {},
     "output_type": "execute_result"
    }
   ],
   "source": [
    "dataset.TARGET.value_counts()"
   ]
  },
  {
   "cell_type": "markdown",
   "metadata": {},
   "source": [
    "1) Los datos están estructurados en una serie de variables obtenidas de clientes del departamento de créditos de un banco. Proporcionan datos relevantes sobre el desempeño de 5960 préstamos con garantía hipotecaria, categorizando los mismos según hayan caído en default o no. \n",
    "\n",
    "2) La variable objetivo a predecir `TARGET` es binaria y etiqueta aquellos prestamos que han sido pagados y los que no(default). El valor 0 se corresponde con aquellos que han pagado el préstamo, mientras que si toma valor 1 es porque han incumplido.\n",
    "\n",
    "3) Para cada solicitante de préstamo se registraron 12 variables de entrada o atributos que se mencionan a continuación.\n",
    "\n",
    "  \n",
    " `LOAN`: Monto de la solicitud de préstamo\n",
    " \n",
    " `MORTDUE`: Monto adeudado de la hipoteca existente\n",
    " \n",
    " `VALUE`: Valor de la propiedad actual\n",
    " \n",
    " `YOJ`: Años en el trabajo actual\n",
    " \n",
    " `DEROG`: Número de informes importantes derogados \n",
    " \n",
    " `DELINQ`: Número de líneas de crédito morosas\n",
    " \n",
    " `CLAGE`: Antigüedad de la línea comercial más antigua en meses\n",
    " \n",
    " `NINQ`: Número de líneas de crédito recientes\n",
    " \n",
    " `CLNO`: Número de líneas de crédito\n",
    " \n",
    "`DEBTINC`: Relación deuda-ingresos\n",
    "\n",
    "4) Los atributos más determinantes para la predicción son: `LOAN`,  `MORTDUE`, `DELINQ` y `DEBTINC`\n"
   ]
  },
  {
   "cell_type": "markdown",
   "metadata": {},
   "source": [
    "## Ejercicio 2: Predicción con Modelos Lineales\n",
    "\n",
    "En este ejercicio se entrenarán modelos lineales de clasificación para predecir la variable objetivo.\n",
    "\n",
    "Para ello, deberán utilizar la clase SGDClassifier de scikit-learn.\n",
    "\n",
    "Documentación:\n",
    "- https://scikit-learn.org/stable/modules/sgd.html\n",
    "- https://scikit-learn.org/stable/modules/generated/sklearn.linear_model.SGDClassifier.html\n"
   ]
  },
  {
   "cell_type": "markdown",
   "metadata": {},
   "source": [
    "### Ejercicio 2.1: SGDClassifier con hiperparámetros por defecto\n",
    "\n",
    "Entrenar y evaluar el clasificador SGDClassifier usando los valores por omisión de scikit-learn para todos los parámetros. Únicamente **fijar la semilla aleatoria** para hacer repetible el experimento.\n",
    "\n",
    "Evaluar sobre el conjunto de **entrenamiento** y sobre el conjunto de **evaluación**, reportando:\n",
    "- Accuracy\n",
    "- Precision\n",
    "- Recall\n",
    "- F1\n",
    "- matriz de confusión"
   ]
  },
  {
   "cell_type": "code",
   "execution_count": 5,
   "metadata": {},
   "outputs": [
    {
     "name": "stderr",
     "output_type": "stream",
     "text": [
      "C:\\Users\\usuario\\anaconda3\\lib\\site-packages\\seaborn\\_decorators.py:36: FutureWarning: Pass the following variable as a keyword arg: x. From version 0.12, the only valid positional argument will be `data`, and passing other arguments without an explicit keyword will result in an error or misinterpretation.\n",
      "  warnings.warn(\n"
     ]
    },
    {
     "data": {
      "image/png": "[encoded data removed]",
      "text/plain": [
       "<Figure size 432x288 with 1 Axes>"
      ]
     },
     "metadata": {
      "needs_background": "light"
     },
     "output_type": "display_data"
    }
   ],
   "source": [
    "sns.countplot(dataset.TARGET)\n",
    "plt.title(\"Variable TARGET\")\n",
    "plt.show()                      #Hay 309 créditos en default"
   ]
  },
  {
   "cell_type": "markdown",
   "metadata": {},
   "source": [
    "La variable objetivo esta muy desbalanceada, por encontrarse la mayor proporción de los créditos en el grupo de aquellos que no entraron en default."
   ]
  },
  {
   "cell_type": "markdown",
   "metadata": {},
   "source": [
    "#### Ajustamos el modelo"
   ]
  },
  {
   "cell_type": "code",
   "execution_count": 6,
   "metadata": {},
   "outputs": [
    {
     "data": {
      "text/plain": [
       "SGDClassifier(random_state=0)"
      ]
     },
     "execution_count": 6,
     "metadata": {},
     "output_type": "execute_result"
    }
   ],
   "source": [
    "model = SGDClassifier(random_state=0)\n",
    "model.fit(X_train, y_train)"
   ]
  },
  {
   "cell_type": "markdown",
   "metadata": {},
   "source": [
    "#### Predecimos y obtenermos las métricas"
   ]
  },
  {
   "cell_type": "code",
   "execution_count": 10,
   "metadata": {},
   "outputs": [
    {
     "name": "stdout",
     "output_type": "stream",
     "text": [
      "ENTRENAMIENTO\n",
      "              precision    recall  f1-score   support\n",
      "\n",
      "           0       0.83      1.00      0.91      1232\n",
      "           1       0.00      0.00      0.00       251\n",
      "\n",
      "    accuracy                           0.83      1483\n",
      "   macro avg       0.42      0.50      0.45      1483\n",
      "weighted avg       0.69      0.83      0.75      1483\n",
      "\n",
      "TESTEO\n",
      "              precision    recall  f1-score   support\n",
      "\n",
      "           0       0.84      1.00      0.92       313\n",
      "           1       0.00      0.00      0.00        58\n",
      "\n",
      "    accuracy                           0.84       371\n",
      "   macro avg       0.42      0.50      0.46       371\n",
      "weighted avg       0.71      0.84      0.77       371\n",
      "\n"
     ]
    },
    {
     "name": "stderr",
     "output_type": "stream",
     "text": [
      "C:\\Users\\usuario\\anaconda3\\lib\\site-packages\\sklearn\\metrics\\_classification.py:1221: UndefinedMetricWarning: Precision and F-score are ill-defined and being set to 0.0 in labels with no predicted samples. Use `zero_division` parameter to control this behavior.\n",
      "  _warn_prf(average, modifier, msg_start, len(result))\n"
     ]
    }
   ],
   "source": [
    "y_train_pred= model.predict(X_train)\n",
    "y_test_pred= model.predict(X_test)\n",
    "\n",
    "print(\"ENTRENAMIENTO\")\n",
    "print(classification_report(y_train, y_train_pred))\n",
    "\n",
    "print(\"TESTEO\")\n",
    "print(classification_report(y_test, y_test_pred))"
   ]
  },
  {
   "cell_type": "markdown",
   "metadata": {},
   "source": [
    "5. Matriz de confusión"
   ]
  },
  {
   "cell_type": "code",
   "execution_count": 12,
   "metadata": {},
   "outputs": [
    {
     "data": {
      "image/png": "[encoded data removed]",
      "text/plain": [
       "<Figure size 432x288 with 2 Axes>"
      ]
     },
     "metadata": {
      "needs_background": "light"
     },
     "output_type": "display_data"
    }
   ],
   "source": [
    "cm=confusion_matrix(y_test,y_test_pred)\n",
    "\n",
    "sns.heatmap(cm, annot=True)\n",
    "\n",
    "plt.title(\"Confusion matrix\")       #Esta matriz es rara, indicaría que no hay casos en que el label sea 1?\n",
    "plt.show()"
   ]
  },
  {
   "cell_type": "markdown",
   "metadata": {},
   "source": [
    "### Ejercicio 2.2: Ajuste de Hiperparámetros\n",
    "\n",
    "Seleccionar valores para los hiperparámetros principales del SGDClassifier. Como mínimo, probar diferentes funciones de loss, tasas de entrenamiento y tasas de regularización.\n",
    "\n",
    "Para ello, usar grid-search y 5-fold cross-validation sobre el conjunto de entrenamiento para explorar muchas combinaciones posibles de valores.\n",
    "\n",
    "Reportar accuracy promedio y varianza para todas las configuraciones.\n",
    "\n",
    "Para la mejor configuración encontrada, evaluar sobre el conjunto de **entrenamiento** y sobre el conjunto de **evaluación**, reportando:\n",
    "- Accuracy\n",
    "- Precision\n",
    "- Recall\n",
    "- F1\n",
    "- matriz de confusión\n",
    "\n",
    "Documentación:\n",
    "- https://scikit-learn.org/stable/modules/grid_search.html\n",
    "- https://scikit-learn.org/stable/modules/generated/sklearn.model_selection.GridSearchCV.html"
   ]
  },
  {
   "cell_type": "code",
   "execution_count": null,
   "metadata": {},
   "outputs": [],
   "source": [
    "##Coment FC: no lo quise borrar por las dudas se pierda algo importante, pero me parece que queda más claro como está desarrollado a partir de la celda de abajo\n",
    "\"\"\"\"\n",
    "params={'loss':['hinge', 'log', 'modified_huber', 'squared_hinge', 'perceptron'],\n",
    "        'alpha':[0.1,0.01,0.001,0.0001],\n",
    "        'learning_rate': ['optimal','constant','invscaling','adaptive'],\n",
    "        'eta0': [0.01,0.001,0.0001]}\n",
    "\n",
    "grid=GridSearchCV(classifier,param_grid=params,cv=5,n_jobs=-1,scoring='accuracy',refit=True)\n",
    "\n",
    "grid.fit(X_train,y_train)\n",
    "\n",
    "print(\"El mejor es: %f con %s\" % (grid.best_score_, grid.best_params_))\n",
    "means_acc= grid.cv_results_['mean_test_score']\n",
    "stds = grid.cv_results_['std_test_score']\n",
    "params = grid.cv_results_['params']\n",
    "for mean, stdev, param in zip(means_acc, stds, params):\n",
    "    print(\"%f (%f) con: %r\" % (mean, stdev, param))\n",
    "\"\"\"\""
   ]
  },
  {
   "cell_type": "markdown",
   "metadata": {},
   "source": [
    "#### Definimos una grilla de parámetros"
   ]
  },
  {
   "cell_type": "code",
   "execution_count": 13,
   "metadata": {},
   "outputs": [],
   "source": [
    "params={'loss':['hinge', 'log', 'modified_huber', 'squared_hinge', 'perceptron'],\n",
    "        'alpha':[0.1,0.01,0.001,0.0001],\n",
    "        'learning_rate': ['optimal','constant','invscaling','adaptive'],\n",
    "        'eta0': [0.01,0.001,0.0001]}"
   ]
  },
  {
   "cell_type": "markdown",
   "metadata": {},
   "source": [
    "#### Hacemos la validación cruzada con el modelo de descenso de gradiente y la grilla de hiperparámetros que queremos probar "
   ]
  },
  {
   "cell_type": "code",
   "execution_count": 14,
   "metadata": {},
   "outputs": [],
   "source": [
    "model = SGDClassifier(random_state=0)\n",
    "\n",
    "cv = GridSearchCV(model, params, scoring='accuracy', cv=5,refit=True)\n",
    "cv.fit(X, y);"
   ]
  },
  {
   "cell_type": "code",
   "execution_count": 15,
   "metadata": {},
   "outputs": [],
   "source": [
    "results = cv.cv_results_"
   ]
  },
  {
   "cell_type": "code",
   "execution_count": 16,
   "metadata": {},
   "outputs": [
    {
     "data": {
      "text/html": [
       "<div>\n",
       "<style scoped>\n",
       "    .dataframe tbody tr th:only-of-type {\n",
       "        vertical-align: middle;\n",
       "    }\n",
       "\n",
       "    .dataframe tbody tr th {\n",
       "        vertical-align: top;\n",
       "    }\n",
       "\n",
       "    .dataframe thead th {\n",
       "        text-align: right;\n",
       "    }\n",
       "</style>\n",
       "<table border=\"1\" class=\"dataframe\">\n",
       "  <thead>\n",
       "    <tr style=\"text-align: right;\">\n",
       "      <th></th>\n",
       "      <th>param_loss</th>\n",
       "      <th>param_alpha</th>\n",
       "      <th>param_learning_rate</th>\n",
       "      <th>mean_test_score</th>\n",
       "      <th>std_test_score</th>\n",
       "      <th>rank_test_score</th>\n",
       "    </tr>\n",
       "  </thead>\n",
       "  <tbody>\n",
       "    <tr>\n",
       "      <th>0</th>\n",
       "      <td>hinge</td>\n",
       "      <td>0.1</td>\n",
       "      <td>optimal</td>\n",
       "      <td>0.743610</td>\n",
       "      <td>0.173207</td>\n",
       "      <td>92</td>\n",
       "    </tr>\n",
       "    <tr>\n",
       "      <th>1</th>\n",
       "      <td>log</td>\n",
       "      <td>0.1</td>\n",
       "      <td>optimal</td>\n",
       "      <td>0.692094</td>\n",
       "      <td>0.260130</td>\n",
       "      <td>151</td>\n",
       "    </tr>\n",
       "    <tr>\n",
       "      <th>2</th>\n",
       "      <td>modified_huber</td>\n",
       "      <td>0.1</td>\n",
       "      <td>optimal</td>\n",
       "      <td>0.692094</td>\n",
       "      <td>0.260130</td>\n",
       "      <td>151</td>\n",
       "    </tr>\n",
       "    <tr>\n",
       "      <th>3</th>\n",
       "      <td>squared_hinge</td>\n",
       "      <td>0.1</td>\n",
       "      <td>optimal</td>\n",
       "      <td>0.569183</td>\n",
       "      <td>0.323904</td>\n",
       "      <td>197</td>\n",
       "    </tr>\n",
       "    <tr>\n",
       "      <th>4</th>\n",
       "      <td>perceptron</td>\n",
       "      <td>0.1</td>\n",
       "      <td>optimal</td>\n",
       "      <td>0.743610</td>\n",
       "      <td>0.173207</td>\n",
       "      <td>92</td>\n",
       "    </tr>\n",
       "    <tr>\n",
       "      <th>...</th>\n",
       "      <td>...</td>\n",
       "      <td>...</td>\n",
       "      <td>...</td>\n",
       "      <td>...</td>\n",
       "      <td>...</td>\n",
       "      <td>...</td>\n",
       "    </tr>\n",
       "    <tr>\n",
       "      <th>235</th>\n",
       "      <td>hinge</td>\n",
       "      <td>0.0001</td>\n",
       "      <td>adaptive</td>\n",
       "      <td>0.693158</td>\n",
       "      <td>0.263177</td>\n",
       "      <td>150</td>\n",
       "    </tr>\n",
       "    <tr>\n",
       "      <th>236</th>\n",
       "      <td>log</td>\n",
       "      <td>0.0001</td>\n",
       "      <td>adaptive</td>\n",
       "      <td>0.830639</td>\n",
       "      <td>0.003855</td>\n",
       "      <td>33</td>\n",
       "    </tr>\n",
       "    <tr>\n",
       "      <th>237</th>\n",
       "      <td>modified_huber</td>\n",
       "      <td>0.0001</td>\n",
       "      <td>adaptive</td>\n",
       "      <td>0.832253</td>\n",
       "      <td>0.001262</td>\n",
       "      <td>23</td>\n",
       "    </tr>\n",
       "    <tr>\n",
       "      <th>238</th>\n",
       "      <td>squared_hinge</td>\n",
       "      <td>0.0001</td>\n",
       "      <td>adaptive</td>\n",
       "      <td>0.438725</td>\n",
       "      <td>0.318631</td>\n",
       "      <td>232</td>\n",
       "    </tr>\n",
       "    <tr>\n",
       "      <th>239</th>\n",
       "      <td>perceptron</td>\n",
       "      <td>0.0001</td>\n",
       "      <td>adaptive</td>\n",
       "      <td>0.807458</td>\n",
       "      <td>0.048063</td>\n",
       "      <td>65</td>\n",
       "    </tr>\n",
       "  </tbody>\n",
       "</table>\n",
       "<p>240 rows × 6 columns</p>\n",
       "</div>"
      ],
      "text/plain": [
       "         param_loss param_alpha param_learning_rate  mean_test_score  \\\n",
       "0             hinge         0.1             optimal         0.743610   \n",
       "1               log         0.1             optimal         0.692094   \n",
       "2    modified_huber         0.1             optimal         0.692094   \n",
       "3     squared_hinge         0.1             optimal         0.569183   \n",
       "4        perceptron         0.1             optimal         0.743610   \n",
       "..              ...         ...                 ...              ...   \n",
       "235           hinge      0.0001            adaptive         0.693158   \n",
       "236             log      0.0001            adaptive         0.830639   \n",
       "237  modified_huber      0.0001            adaptive         0.832253   \n",
       "238   squared_hinge      0.0001            adaptive         0.438725   \n",
       "239      perceptron      0.0001            adaptive         0.807458   \n",
       "\n",
       "     std_test_score  rank_test_score  \n",
       "0          0.173207               92  \n",
       "1          0.260130              151  \n",
       "2          0.260130              151  \n",
       "3          0.323904              197  \n",
       "4          0.173207               92  \n",
       "..              ...              ...  \n",
       "235        0.263177              150  \n",
       "236        0.003855               33  \n",
       "237        0.001262               23  \n",
       "238        0.318631              232  \n",
       "239        0.048063               65  \n",
       "\n",
       "[240 rows x 6 columns]"
      ]
     },
     "execution_count": 16,
     "metadata": {},
     "output_type": "execute_result"
    }
   ],
   "source": [
    "df = pd.DataFrame(results)\n",
    "df[['param_loss', 'param_alpha', \"param_learning_rate\",'mean_test_score', 'std_test_score', 'rank_test_score']]\n"
   ]
  },
  {
   "cell_type": "code",
   "execution_count": 17,
   "metadata": {},
   "outputs": [
    {
     "data": {
      "text/plain": [
       "SGDClassifier(alpha=0.1, eta0=0.01, learning_rate='constant',\n",
       "              loss='squared_hinge', random_state=0)"
      ]
     },
     "execution_count": 17,
     "metadata": {},
     "output_type": "execute_result"
    }
   ],
   "source": [
    "cv.best_estimator_"
   ]
  },
  {
   "cell_type": "code",
   "execution_count": 18,
   "metadata": {},
   "outputs": [
    {
     "data": {
      "text/plain": [
       "{'alpha': 0.1,\n",
       " 'eta0': 0.01,\n",
       " 'learning_rate': 'constant',\n",
       " 'loss': 'squared_hinge'}"
      ]
     },
     "execution_count": 18,
     "metadata": {},
     "output_type": "execute_result"
    }
   ],
   "source": [
    "cv.best_params_"
   ]
  },
  {
   "cell_type": "code",
   "execution_count": 19,
   "metadata": {},
   "outputs": [
    {
     "data": {
      "text/plain": [
       "0.8333343046550594"
      ]
     },
     "execution_count": 19,
     "metadata": {},
     "output_type": "execute_result"
    }
   ],
   "source": [
    "cv.best_score_"
   ]
  },
  {
   "cell_type": "markdown",
   "metadata": {},
   "source": [
    "#### Evaluamos, predecimos y obtenemos las métricas del mejor modelo obtenido a partir de los datos de entrenamiento y test"
   ]
  },
  {
   "cell_type": "code",
   "execution_count": 20,
   "metadata": {},
   "outputs": [
    {
     "data": {
      "text/plain": [
       "SGDClassifier(alpha=0.1, eta0=0.01, learning_rate='constant',\n",
       "              loss='squared_hinge', random_state=0)"
      ]
     },
     "execution_count": 20,
     "metadata": {},
     "output_type": "execute_result"
    }
   ],
   "source": [
    "best_model=SGDClassifier(alpha=0.1, eta0=0.01, learning_rate='constant', loss='squared_hinge',\n",
    "              random_state=0)\n",
    "best_model.fit(X_train, y_train)"
   ]
  },
  {
   "cell_type": "code",
   "execution_count": 21,
   "metadata": {},
   "outputs": [
    {
     "name": "stdout",
     "output_type": "stream",
     "text": [
      "ENTRENAMIENTO\n",
      "              precision    recall  f1-score   support\n",
      "\n",
      "           0       0.83      1.00      0.91      1232\n",
      "           1       0.00      0.00      0.00       251\n",
      "\n",
      "    accuracy                           0.83      1483\n",
      "   macro avg       0.42      0.50      0.45      1483\n",
      "weighted avg       0.69      0.83      0.75      1483\n",
      "\n",
      "TESTEO\n",
      "              precision    recall  f1-score   support\n",
      "\n",
      "           0       0.84      1.00      0.92       313\n",
      "           1       0.00      0.00      0.00        58\n",
      "\n",
      "    accuracy                           0.84       371\n",
      "   macro avg       0.42      0.50      0.46       371\n",
      "weighted avg       0.71      0.84      0.77       371\n",
      "\n"
     ]
    },
    {
     "name": "stderr",
     "output_type": "stream",
     "text": [
      "C:\\Users\\usuario\\anaconda3\\lib\\site-packages\\sklearn\\metrics\\_classification.py:1221: UndefinedMetricWarning: Precision and F-score are ill-defined and being set to 0.0 in labels with no predicted samples. Use `zero_division` parameter to control this behavior.\n",
      "  _warn_prf(average, modifier, msg_start, len(result))\n"
     ]
    }
   ],
   "source": [
    "y_train_pred_best= best_model.predict(X_train)\n",
    "y_test_pred_best= best_model.predict(X_test)\n",
    "\n",
    "print(\"ENTRENAMIENTO\")\n",
    "print(classification_report(y_train, y_train_pred_best))\n",
    "\n",
    "print(\"TESTEO\")\n",
    "print(classification_report(y_test, y_test_pred_best))"
   ]
  },
  {
   "cell_type": "code",
   "execution_count": 22,
   "metadata": {},
   "outputs": [
    {
     "data": {
      "image/png": "[encoded data removed]",
      "text/plain": [
       "<Figure size 432x288 with 2 Axes>"
      ]
     },
     "metadata": {
      "needs_background": "light"
     },
     "output_type": "display_data"
    }
   ],
   "source": [
    "cm=confusion_matrix(y_test,y_test_pred_best)\n",
    "\n",
    "sns.heatmap(cm, annot=True)\n",
    "\n",
    "plt.title(\"Confusion matrix\")\n",
    "plt.show()"
   ]
  },
  {
   "cell_type": "markdown",
   "metadata": {},
   "source": [
    "Se reajustó el modelo para una variedad de combinaciones de valores específicos para cada uno de los hiperparámetros. Se ajustaron 239 modelos diferentes, y se identificó el mejor modelo a aquel que tiene los siguientes parámetros:\n",
    "\n",
    "- alpha': 0.1,\n",
    "- 'eta0': 0.01,\n",
    "- 'learning_rate': 'constant',\n",
    "- 'loss': 'squared_hinge'\n",
    "\n",
    "Este modelo, presentó una accuracy promedio de 0.83."
   ]
  },
  {
   "cell_type": "markdown",
   "metadata": {},
   "source": [
    "En comparación con el modelo estimado empleando los parámetros por default, podríamos decir que los resultados que obtenemos son los mismos. \n",
    "\n",
    "**FC: Esto tiene sentido? Justo los parámetros del mejor modelo coinciden con los definidos por default o hay algo mal?**\n"
   ]
  },
  {
   "cell_type": "code",
   "execution_count": null,
   "metadata": {},
   "outputs": [],
   "source": [
    "SGDClassifier??   #para comprobar que los parámetros por default no son los mismos"
   ]
  },
  {
   "cell_type": "markdown",
   "metadata": {},
   "source": [
    "## Ejercicio 3: Árboles de Decisión\n",
    "\n",
    "En este ejercicio se entrenarán árboles de decisión para predecir la variable objetivo.\n",
    "\n",
    "Para ello, deberán utilizar la clase DecisionTreeClassifier de scikit-learn.\n",
    "\n",
    "Documentación:\n",
    "- https://scikit-learn.org/stable/modules/tree.html\n",
    "  - https://scikit-learn.org/stable/modules/tree.html#tips-on-practical-use\n",
    "- https://scikit-learn.org/stable/modules/generated/sklearn.tree.DecisionTreeClassifier.html\n",
    "- https://scikit-learn.org/stable/auto_examples/tree/plot_unveil_tree_structure.html"
   ]
  },
  {
   "cell_type": "markdown",
   "metadata": {},
   "source": [
    "### Ejercicio 3.1: DecisionTreeClassifier con hiperparámetros por defecto\n",
    "\n",
    "Entrenar y evaluar el clasificador DecisionTreeClassifier usando los valores por omisión de scikit-learn para todos los parámetros. Únicamente **fijar la semilla aleatoria** para hacer repetible el experimento.\n",
    "\n",
    "Evaluar sobre el conjunto de **entrenamiento** y sobre el conjunto de **evaluación**, reportando:\n",
    "- Accuracy\n",
    "- Precision\n",
    "- Recall\n",
    "- F1\n",
    "- matriz de confusión\n"
   ]
  },
  {
   "cell_type": "markdown",
   "metadata": {},
   "source": [
    "#### Ajustamos el modelo"
   ]
  },
  {
   "cell_type": "code",
   "execution_count": 23,
   "metadata": {},
   "outputs": [
    {
     "data": {
      "text/plain": [
       "DecisionTreeClassifier(random_state=0)"
      ]
     },
     "execution_count": 23,
     "metadata": {},
     "output_type": "execute_result"
    }
   ],
   "source": [
    "model=DecisionTreeClassifier(random_state=0) \n",
    "model.fit(X_train, y_train)"
   ]
  },
  {
   "cell_type": "markdown",
   "metadata": {},
   "source": [
    "#### Predecimos y obtenemos las métricas"
   ]
  },
  {
   "cell_type": "code",
   "execution_count": 24,
   "metadata": {},
   "outputs": [
    {
     "name": "stdout",
     "output_type": "stream",
     "text": [
      "ENTRENAMIENTO\n",
      "              precision    recall  f1-score   support\n",
      "\n",
      "           0       1.00      1.00      1.00      1232\n",
      "           1       1.00      1.00      1.00       251\n",
      "\n",
      "    accuracy                           1.00      1483\n",
      "   macro avg       1.00      1.00      1.00      1483\n",
      "weighted avg       1.00      1.00      1.00      1483\n",
      "\n",
      "TESTEO\n",
      "              precision    recall  f1-score   support\n",
      "\n",
      "           0       0.93      0.93      0.93       313\n",
      "           1       0.62      0.64      0.63        58\n",
      "\n",
      "    accuracy                           0.88       371\n",
      "   macro avg       0.77      0.78      0.78       371\n",
      "weighted avg       0.88      0.88      0.88       371\n",
      "\n"
     ]
    }
   ],
   "source": [
    "y_train_pred= model.predict(X_train)\n",
    "y_test_pred=model.predict(X_test)\n",
    "\n",
    "print(\"ENTRENAMIENTO\")\n",
    "print(classification_report(y_train, y_train_pred))\n",
    "\n",
    "print(\"TESTEO\")\n",
    "print(classification_report(y_test, y_test_pred))"
   ]
  },
  {
   "cell_type": "code",
   "execution_count": 25,
   "metadata": {},
   "outputs": [
    {
     "data": {
      "image/png": "[encoded data removed]",
      "text/plain": [
       "<Figure size 432x288 with 2 Axes>"
      ]
     },
     "metadata": {
      "needs_background": "light"
     },
     "output_type": "display_data"
    }
   ],
   "source": [
    "cm=confusion_matrix(y_test,y_test_pred)\n",
    "\n",
    "sns.heatmap(cm, annot=True)\n",
    "\n",
    "plt.title(\"Confusion matrix\")\n",
    "plt.show()"
   ]
  },
  {
   "cell_type": "markdown",
   "metadata": {},
   "source": [
    "### Ejercicio 3.2: Ajuste de Hiperparámetros\n",
    "\n",
    "Seleccionar valores para los hiperparámetros principales del DecisionTreeClassifier. Como mínimo, probar diferentes criterios de partición (criterion), profundidad máxima del árbol (max_depth), y cantidad mínima de samples por hoja (min_samples_leaf).\n",
    "\n",
    "Para ello, usar grid-search y 5-fold cross-validation sobre el conjunto de entrenamiento para explorar muchas combinaciones posibles de valores.\n",
    "\n",
    "Reportar accuracy promedio y varianza para todas las configuraciones.\n",
    "\n",
    "Para la mejor configuración encontrada, evaluar sobre el conjunto de **entrenamiento** y sobre el conjunto de **evaluación**, reportando:\n",
    "- Accuracy\n",
    "- Precision\n",
    "- Recall\n",
    "- F1\n",
    "- matriz de confusión\n",
    "\n",
    "\n",
    "Documentación:\n",
    "- https://scikit-learn.org/stable/modules/grid_search.html\n",
    "- https://scikit-learn.org/stable/modules/generated/sklearn.model_selection.GridSearchCV.html"
   ]
  },
  {
   "cell_type": "markdown",
   "metadata": {},
   "source": [
    "#### Definimos una grilla de parámetros"
   ]
  },
  {
   "cell_type": "code",
   "execution_count": 26,
   "metadata": {},
   "outputs": [],
   "source": [
    "param_grid = {\n",
    "    \"criterion\": [\"gini\", \"entropy\"],\n",
    "    'max_depth': [2, 4, 15],\n",
    "    \"min_samples_leaf\": [5, 10, 20]\n",
    "}"
   ]
  },
  {
   "cell_type": "markdown",
   "metadata": {},
   "source": [
    "#### Hacemos la validación cruzada con el modelo de descenso de árbol de desición y la grilla de hiperparámetros que queremos probar "
   ]
  },
  {
   "cell_type": "code",
   "execution_count": 27,
   "metadata": {},
   "outputs": [],
   "source": [
    "model = DecisionTreeClassifier(random_state=0)\n",
    "\n",
    "cv = GridSearchCV(model, param_grid, scoring='accuracy', cv=5)\n",
    "cv.fit(X, y);"
   ]
  },
  {
   "cell_type": "code",
   "execution_count": 28,
   "metadata": {},
   "outputs": [],
   "source": [
    "results = cv.cv_results_"
   ]
  },
  {
   "cell_type": "code",
   "execution_count": 29,
   "metadata": {},
   "outputs": [
    {
     "data": {
      "text/html": [
       "<div>\n",
       "<style scoped>\n",
       "    .dataframe tbody tr th:only-of-type {\n",
       "        vertical-align: middle;\n",
       "    }\n",
       "\n",
       "    .dataframe tbody tr th {\n",
       "        vertical-align: top;\n",
       "    }\n",
       "\n",
       "    .dataframe thead th {\n",
       "        text-align: right;\n",
       "    }\n",
       "</style>\n",
       "<table border=\"1\" class=\"dataframe\">\n",
       "  <thead>\n",
       "    <tr style=\"text-align: right;\">\n",
       "      <th></th>\n",
       "      <th>param_criterion</th>\n",
       "      <th>param_max_depth</th>\n",
       "      <th>param_min_samples_leaf</th>\n",
       "      <th>mean_test_score</th>\n",
       "      <th>std_test_score</th>\n",
       "      <th>rank_test_score</th>\n",
       "    </tr>\n",
       "  </thead>\n",
       "  <tbody>\n",
       "    <tr>\n",
       "      <th>0</th>\n",
       "      <td>gini</td>\n",
       "      <td>2</td>\n",
       "      <td>5</td>\n",
       "      <td>0.873793</td>\n",
       "      <td>0.009158</td>\n",
       "      <td>2</td>\n",
       "    </tr>\n",
       "    <tr>\n",
       "      <th>1</th>\n",
       "      <td>gini</td>\n",
       "      <td>2</td>\n",
       "      <td>10</td>\n",
       "      <td>0.873254</td>\n",
       "      <td>0.010431</td>\n",
       "      <td>3</td>\n",
       "    </tr>\n",
       "    <tr>\n",
       "      <th>2</th>\n",
       "      <td>gini</td>\n",
       "      <td>2</td>\n",
       "      <td>20</td>\n",
       "      <td>0.873254</td>\n",
       "      <td>0.010431</td>\n",
       "      <td>3</td>\n",
       "    </tr>\n",
       "    <tr>\n",
       "      <th>3</th>\n",
       "      <td>gini</td>\n",
       "      <td>4</td>\n",
       "      <td>5</td>\n",
       "      <td>0.872180</td>\n",
       "      <td>0.019416</td>\n",
       "      <td>6</td>\n",
       "    </tr>\n",
       "    <tr>\n",
       "      <th>4</th>\n",
       "      <td>gini</td>\n",
       "      <td>4</td>\n",
       "      <td>10</td>\n",
       "      <td>0.875415</td>\n",
       "      <td>0.022204</td>\n",
       "      <td>1</td>\n",
       "    </tr>\n",
       "    <tr>\n",
       "      <th>5</th>\n",
       "      <td>gini</td>\n",
       "      <td>4</td>\n",
       "      <td>20</td>\n",
       "      <td>0.872180</td>\n",
       "      <td>0.019114</td>\n",
       "      <td>6</td>\n",
       "    </tr>\n",
       "    <tr>\n",
       "      <th>6</th>\n",
       "      <td>gini</td>\n",
       "      <td>15</td>\n",
       "      <td>5</td>\n",
       "      <td>0.853302</td>\n",
       "      <td>0.016665</td>\n",
       "      <td>15</td>\n",
       "    </tr>\n",
       "    <tr>\n",
       "      <th>7</th>\n",
       "      <td>gini</td>\n",
       "      <td>15</td>\n",
       "      <td>10</td>\n",
       "      <td>0.867852</td>\n",
       "      <td>0.016802</td>\n",
       "      <td>10</td>\n",
       "    </tr>\n",
       "    <tr>\n",
       "      <th>8</th>\n",
       "      <td>gini</td>\n",
       "      <td>15</td>\n",
       "      <td>20</td>\n",
       "      <td>0.865164</td>\n",
       "      <td>0.019392</td>\n",
       "      <td>14</td>\n",
       "    </tr>\n",
       "    <tr>\n",
       "      <th>9</th>\n",
       "      <td>entropy</td>\n",
       "      <td>2</td>\n",
       "      <td>5</td>\n",
       "      <td>0.866785</td>\n",
       "      <td>0.017615</td>\n",
       "      <td>11</td>\n",
       "    </tr>\n",
       "    <tr>\n",
       "      <th>10</th>\n",
       "      <td>entropy</td>\n",
       "      <td>2</td>\n",
       "      <td>10</td>\n",
       "      <td>0.866785</td>\n",
       "      <td>0.017615</td>\n",
       "      <td>11</td>\n",
       "    </tr>\n",
       "    <tr>\n",
       "      <th>11</th>\n",
       "      <td>entropy</td>\n",
       "      <td>2</td>\n",
       "      <td>20</td>\n",
       "      <td>0.866785</td>\n",
       "      <td>0.017615</td>\n",
       "      <td>11</td>\n",
       "    </tr>\n",
       "    <tr>\n",
       "      <th>12</th>\n",
       "      <td>entropy</td>\n",
       "      <td>4</td>\n",
       "      <td>5</td>\n",
       "      <td>0.869479</td>\n",
       "      <td>0.015715</td>\n",
       "      <td>9</td>\n",
       "    </tr>\n",
       "    <tr>\n",
       "      <th>13</th>\n",
       "      <td>entropy</td>\n",
       "      <td>4</td>\n",
       "      <td>10</td>\n",
       "      <td>0.872715</td>\n",
       "      <td>0.013935</td>\n",
       "      <td>5</td>\n",
       "    </tr>\n",
       "    <tr>\n",
       "      <th>14</th>\n",
       "      <td>entropy</td>\n",
       "      <td>4</td>\n",
       "      <td>20</td>\n",
       "      <td>0.871096</td>\n",
       "      <td>0.014145</td>\n",
       "      <td>8</td>\n",
       "    </tr>\n",
       "    <tr>\n",
       "      <th>15</th>\n",
       "      <td>entropy</td>\n",
       "      <td>15</td>\n",
       "      <td>5</td>\n",
       "      <td>0.834418</td>\n",
       "      <td>0.024463</td>\n",
       "      <td>18</td>\n",
       "    </tr>\n",
       "    <tr>\n",
       "      <th>16</th>\n",
       "      <td>entropy</td>\n",
       "      <td>15</td>\n",
       "      <td>10</td>\n",
       "      <td>0.851133</td>\n",
       "      <td>0.013246</td>\n",
       "      <td>17</td>\n",
       "    </tr>\n",
       "    <tr>\n",
       "      <th>17</th>\n",
       "      <td>entropy</td>\n",
       "      <td>15</td>\n",
       "      <td>20</td>\n",
       "      <td>0.851673</td>\n",
       "      <td>0.018819</td>\n",
       "      <td>16</td>\n",
       "    </tr>\n",
       "  </tbody>\n",
       "</table>\n",
       "</div>"
      ],
      "text/plain": [
       "   param_criterion param_max_depth param_min_samples_leaf  mean_test_score  \\\n",
       "0             gini               2                      5         0.873793   \n",
       "1             gini               2                     10         0.873254   \n",
       "2             gini               2                     20         0.873254   \n",
       "3             gini               4                      5         0.872180   \n",
       "4             gini               4                     10         0.875415   \n",
       "5             gini               4                     20         0.872180   \n",
       "6             gini              15                      5         0.853302   \n",
       "7             gini              15                     10         0.867852   \n",
       "8             gini              15                     20         0.865164   \n",
       "9          entropy               2                      5         0.866785   \n",
       "10         entropy               2                     10         0.866785   \n",
       "11         entropy               2                     20         0.866785   \n",
       "12         entropy               4                      5         0.869479   \n",
       "13         entropy               4                     10         0.872715   \n",
       "14         entropy               4                     20         0.871096   \n",
       "15         entropy              15                      5         0.834418   \n",
       "16         entropy              15                     10         0.851133   \n",
       "17         entropy              15                     20         0.851673   \n",
       "\n",
       "    std_test_score  rank_test_score  \n",
       "0         0.009158                2  \n",
       "1         0.010431                3  \n",
       "2         0.010431                3  \n",
       "3         0.019416                6  \n",
       "4         0.022204                1  \n",
       "5         0.019114                6  \n",
       "6         0.016665               15  \n",
       "7         0.016802               10  \n",
       "8         0.019392               14  \n",
       "9         0.017615               11  \n",
       "10        0.017615               11  \n",
       "11        0.017615               11  \n",
       "12        0.015715                9  \n",
       "13        0.013935                5  \n",
       "14        0.014145                8  \n",
       "15        0.024463               18  \n",
       "16        0.013246               17  \n",
       "17        0.018819               16  "
      ]
     },
     "execution_count": 29,
     "metadata": {},
     "output_type": "execute_result"
    }
   ],
   "source": [
    "df = pd.DataFrame(results)\n",
    "df[['param_criterion', 'param_max_depth', \"param_min_samples_leaf\",'mean_test_score', 'std_test_score', 'rank_test_score']]"
   ]
  },
  {
   "cell_type": "code",
   "execution_count": 30,
   "metadata": {},
   "outputs": [
    {
     "data": {
      "text/plain": [
       "DecisionTreeClassifier(max_depth=4, min_samples_leaf=10, random_state=0)"
      ]
     },
     "execution_count": 30,
     "metadata": {},
     "output_type": "execute_result"
    }
   ],
   "source": [
    "cv.best_estimator_"
   ]
  },
  {
   "cell_type": "code",
   "execution_count": 31,
   "metadata": {},
   "outputs": [
    {
     "data": {
      "text/plain": [
       "{'criterion': 'gini', 'max_depth': 4, 'min_samples_leaf': 10}"
      ]
     },
     "execution_count": 31,
     "metadata": {},
     "output_type": "execute_result"
    }
   ],
   "source": [
    "cv.best_params_"
   ]
  },
  {
   "cell_type": "markdown",
   "metadata": {},
   "source": [
    "#### Evaluamos, predecimos y obtenemos las métricas del mejor modelo obtenido a partir de los datos de entrenamiento y test"
   ]
  },
  {
   "cell_type": "code",
   "execution_count": 32,
   "metadata": {},
   "outputs": [
    {
     "data": {
      "text/plain": [
       "DecisionTreeClassifier(max_depth=4, min_samples_leaf=10, random_state=0)"
      ]
     },
     "execution_count": 32,
     "metadata": {},
     "output_type": "execute_result"
    }
   ],
   "source": [
    "best_model=DecisionTreeClassifier(criterion=\"gini\", max_depth=4, min_samples_leaf=10, random_state=0)\n",
    "best_model.fit(X_train, y_train)"
   ]
  },
  {
   "cell_type": "code",
   "execution_count": 33,
   "metadata": {},
   "outputs": [
    {
     "name": "stdout",
     "output_type": "stream",
     "text": [
      "ENTRENAMIENTO\n",
      "              precision    recall  f1-score   support\n",
      "\n",
      "           0       0.89      0.99      0.94      1232\n",
      "           1       0.88      0.42      0.57       251\n",
      "\n",
      "    accuracy                           0.89      1483\n",
      "   macro avg       0.89      0.71      0.76      1483\n",
      "weighted avg       0.89      0.89      0.88      1483\n",
      "\n",
      "TESTEO\n",
      "              precision    recall  f1-score   support\n",
      "\n",
      "           0       0.90      0.97      0.94       313\n",
      "           1       0.76      0.43      0.55        58\n",
      "\n",
      "    accuracy                           0.89       371\n",
      "   macro avg       0.83      0.70      0.74       371\n",
      "weighted avg       0.88      0.89      0.88       371\n",
      "\n"
     ]
    }
   ],
   "source": [
    "y_train_pred_best= best_model.predict(X_train)\n",
    "y_test_pred_best= best_model.predict(X_test)\n",
    "\n",
    "print(\"ENTRENAMIENTO\")\n",
    "print(classification_report(y_train, y_train_pred_best))\n",
    "\n",
    "print(\"TESTEO\")\n",
    "print(classification_report(y_test, y_test_pred_best))"
   ]
  },
  {
   "cell_type": "code",
   "execution_count": 34,
   "metadata": {},
   "outputs": [
    {
     "data": {
      "image/png": "[encoded data removed]",
      "text/plain": [
       "<Figure size 432x288 with 2 Axes>"
      ]
     },
     "metadata": {
      "needs_background": "light"
     },
     "output_type": "display_data"
    }
   ],
   "source": [
    "cm=confusion_matrix(y_test,y_test_pred_best)\n",
    "\n",
    "sns.heatmap(cm, annot=True)\n",
    "\n",
    "plt.title(\"Confusion matrix\")\n",
    "plt.show()"
   ]
  },
  {
   "cell_type": "code",
   "execution_count": 35,
   "metadata": {},
   "outputs": [
    {
     "data": {
      "image/png": "[encoded data removed]",
      "text/plain": [
       "<Figure size 432x288 with 1 Axes>"
      ]
     },
     "metadata": {
      "needs_background": "light"
     },
     "output_type": "display_data"
    }
   ],
   "source": [
    "plot_tree(best_model);"
   ]
  },
  {
   "cell_type": "markdown",
   "metadata": {},
   "source": [
    "Se reajustó el modelo para una variedad de combinaciones de valores específicos para cada uno de los hiperparámetros. Se ajustaron 17 modelos diferentes, y se identificó el mejor modelo a aquel que tiene los siguientes parámetros:\n",
    "\n",
    "\n",
    "- 'criterion': 'gini', \n",
    "- 'max_depth': 4, \n",
    "- 'min_samples_leaf': 10\n",
    "\n",
    "Este modelo, presentó una accuracy promedio de 0.89."
   ]
  },
  {
   "cell_type": "markdown",
   "metadata": {},
   "source": [
    "En comparación con el modelo estimado empleando los parámetros por default, podríamos decir que la accuracy promedio del conjunto de test mejora solo levemente (de 0.88 a 0.89). \n",
    "En cuanto a las otras métricas, el mejor modelo encontrado presenta ... \n",
    "**(FC: tengo dudas sobre la comparación entre las métricas, cuál debería mirar?)**"
   ]
  }
 ],
 "metadata": {
  "kernelspec": {
   "display_name": "Python 3",
   "language": "python",
   "name": "python3"
  },
  "language_info": {
   "codemirror_mode": {
    "name": "ipython",
    "version": 3
   },
   "file_extension": ".py",
   "mimetype": "text/x-python",
   "name": "python",
   "nbconvert_exporter": "python",
   "pygments_lexer": "ipython3",
   "version": "3.8.5"
  }
 },
 "nbformat": 4,
 "nbformat_minor": 4
}
