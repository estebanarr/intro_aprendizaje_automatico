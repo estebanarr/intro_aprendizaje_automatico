{
 "cells": [
  {
   "cell_type": "markdown",
   "metadata": {},
   "source": [
    "# Laboratorio 2: Armado de un esquema de aprendizaje automático\n",
    "\n",
    "En el laboratorio final se espera que puedan poner en práctica los conocimientos adquiridos en el curso, trabajando con un conjunto de datos de clasificación.\n",
    "\n",
    "El objetivo es que se introduzcan en el desarrollo de un esquema para hacer tareas de aprendizaje automático: selección de un modelo, ajuste de hiperparámetros y evaluación.\n",
    "\n",
    "El conjunto de datos a utilizar está en `./data/loan_data.csv`. Si abren el archivo verán que al principio (las líneas que empiezan con `#`) describen el conjunto de datos y sus atributos (incluyendo el atributo de etiqueta o clase).\n",
    "\n",
    "Se espera que hagan uso de las herramientas vistas en el curso. Se espera que hagan uso especialmente de las herramientas brindadas por `scikit-learn`."
   ]
  },
  {
   "cell_type": "code",
   "execution_count": 27,
   "metadata": {},
   "outputs": [],
   "source": [
    "import numpy as np\n",
    "import pandas as pd\n",
    "import seaborn as sns\n",
    "import matplotlib.pyplot as plt\n",
    "\n",
    "# TODO: Agregar las librerías que hagan falta\n",
    "from sklearn.model_selection import train_test_split, GridSearchCV\n",
    "from sklearn.linear_model import SGDClassifier\n",
    "from sklearn.metrics import classification_report\n",
    "from sklearn.metrics import confusion_matrix"
   ]
  },
  {
   "cell_type": "markdown",
   "metadata": {},
   "source": [
    "## Carga de datos y división en entrenamiento y evaluación\n",
    "\n",
    "La celda siguiente se encarga de la carga de datos (haciendo uso de pandas). Estos serán los que se trabajarán en el resto del laboratorio."
   ]
  },
  {
   "cell_type": "code",
   "execution_count": 6,
   "metadata": {},
   "outputs": [],
   "source": [
    "dataset = pd.read_csv(\"../data/loan_data.csv\", comment=\"#\")\n",
    "\n",
    "# División entre instancias y etiquetas\n",
    "X, y = dataset.iloc[:, 1:], dataset.TARGET\n",
    "\n",
    "# división entre entrenamiento y evaluación\n",
    "X_train, X_test, y_train, y_test = train_test_split(X, y, test_size=0.2, random_state=0)"
   ]
  },
  {
   "cell_type": "markdown",
   "metadata": {},
   "source": [
    "\n",
    "Documentación:\n",
    "\n",
    "- https://scikit-learn.org/stable/modules/generated/sklearn.model_selection.train_test_split.html"
   ]
  },
  {
   "cell_type": "markdown",
   "metadata": {},
   "source": [
    "## Ejercicio 1: Descripción de los Datos y la Tarea\n",
    "\n",
    "Responder las siguientes preguntas:\n",
    "\n",
    "1. ¿De qué se trata el conjunto de datos?\n",
    "2. ¿Cuál es la variable objetivo que hay que predecir? ¿Qué significado tiene?\n",
    "3. ¿Qué información (atributos) hay disponible para hacer la predicción?\n",
    "4. ¿Qué atributos imagina ud. que son los más determinantes para la predicción?\n",
    "\n",
    "**No hace falta escribir código para responder estas preguntas.**"
   ]
  },
  {
   "cell_type": "code",
   "execution_count": 7,
   "metadata": {},
   "outputs": [
    {
     "data": {
      "text/html": [
       "<div>\n",
       "<style scoped>\n",
       "    .dataframe tbody tr th:only-of-type {\n",
       "        vertical-align: middle;\n",
       "    }\n",
       "\n",
       "    .dataframe tbody tr th {\n",
       "        vertical-align: top;\n",
       "    }\n",
       "\n",
       "    .dataframe thead th {\n",
       "        text-align: right;\n",
       "    }\n",
       "</style>\n",
       "<table border=\"1\" class=\"dataframe\">\n",
       "  <thead>\n",
       "    <tr style=\"text-align: right;\">\n",
       "      <th></th>\n",
       "      <th>TARGET</th>\n",
       "      <th>LOAN</th>\n",
       "      <th>MORTDUE</th>\n",
       "      <th>VALUE</th>\n",
       "      <th>YOJ</th>\n",
       "      <th>DEROG</th>\n",
       "      <th>DELINQ</th>\n",
       "      <th>CLAGE</th>\n",
       "      <th>NINQ</th>\n",
       "      <th>CLNO</th>\n",
       "      <th>DEBTINC</th>\n",
       "    </tr>\n",
       "  </thead>\n",
       "  <tbody>\n",
       "    <tr>\n",
       "      <th>0</th>\n",
       "      <td>0</td>\n",
       "      <td>4700</td>\n",
       "      <td>88026.0</td>\n",
       "      <td>115506.0</td>\n",
       "      <td>6.0</td>\n",
       "      <td>0.0</td>\n",
       "      <td>0.0</td>\n",
       "      <td>182.248332</td>\n",
       "      <td>0.0</td>\n",
       "      <td>27.0</td>\n",
       "      <td>29.209023</td>\n",
       "    </tr>\n",
       "    <tr>\n",
       "      <th>1</th>\n",
       "      <td>0</td>\n",
       "      <td>19300</td>\n",
       "      <td>39926.0</td>\n",
       "      <td>101208.0</td>\n",
       "      <td>4.0</td>\n",
       "      <td>0.0</td>\n",
       "      <td>0.0</td>\n",
       "      <td>140.051638</td>\n",
       "      <td>0.0</td>\n",
       "      <td>14.0</td>\n",
       "      <td>31.545694</td>\n",
       "    </tr>\n",
       "    <tr>\n",
       "      <th>2</th>\n",
       "      <td>0</td>\n",
       "      <td>5700</td>\n",
       "      <td>71556.0</td>\n",
       "      <td>79538.0</td>\n",
       "      <td>2.0</td>\n",
       "      <td>0.0</td>\n",
       "      <td>0.0</td>\n",
       "      <td>92.643085</td>\n",
       "      <td>0.0</td>\n",
       "      <td>15.0</td>\n",
       "      <td>41.210012</td>\n",
       "    </tr>\n",
       "    <tr>\n",
       "      <th>3</th>\n",
       "      <td>0</td>\n",
       "      <td>13000</td>\n",
       "      <td>44875.0</td>\n",
       "      <td>57713.0</td>\n",
       "      <td>0.0</td>\n",
       "      <td>1.0</td>\n",
       "      <td>0.0</td>\n",
       "      <td>184.990324</td>\n",
       "      <td>1.0</td>\n",
       "      <td>12.0</td>\n",
       "      <td>28.602076</td>\n",
       "    </tr>\n",
       "    <tr>\n",
       "      <th>4</th>\n",
       "      <td>0</td>\n",
       "      <td>19300</td>\n",
       "      <td>72752.0</td>\n",
       "      <td>106084.0</td>\n",
       "      <td>11.0</td>\n",
       "      <td>0.0</td>\n",
       "      <td>0.0</td>\n",
       "      <td>193.707100</td>\n",
       "      <td>1.0</td>\n",
       "      <td>13.0</td>\n",
       "      <td>30.686106</td>\n",
       "    </tr>\n",
       "  </tbody>\n",
       "</table>\n",
       "</div>"
      ],
      "text/plain": [
       "   TARGET   LOAN  MORTDUE     VALUE   YOJ  DEROG  DELINQ       CLAGE  NINQ  \\\n",
       "0       0   4700  88026.0  115506.0   6.0    0.0     0.0  182.248332   0.0   \n",
       "1       0  19300  39926.0  101208.0   4.0    0.0     0.0  140.051638   0.0   \n",
       "2       0   5700  71556.0   79538.0   2.0    0.0     0.0   92.643085   0.0   \n",
       "3       0  13000  44875.0   57713.0   0.0    1.0     0.0  184.990324   1.0   \n",
       "4       0  19300  72752.0  106084.0  11.0    0.0     0.0  193.707100   1.0   \n",
       "\n",
       "   CLNO    DEBTINC  \n",
       "0  27.0  29.209023  \n",
       "1  14.0  31.545694  \n",
       "2  15.0  41.210012  \n",
       "3  12.0  28.602076  \n",
       "4  13.0  30.686106  "
      ]
     },
     "execution_count": 7,
     "metadata": {},
     "output_type": "execute_result"
    }
   ],
   "source": [
    "dataset.head()"
   ]
  },
  {
   "cell_type": "code",
   "execution_count": 8,
   "metadata": {},
   "outputs": [
    {
     "data": {
      "text/plain": [
       "0    1545\n",
       "1     309\n",
       "Name: TARGET, dtype: int64"
      ]
     },
     "execution_count": 8,
     "metadata": {},
     "output_type": "execute_result"
    }
   ],
   "source": [
    "dataset.TARGET.value_counts()"
   ]
  },
  {
   "cell_type": "markdown",
   "metadata": {},
   "source": [
    "1) Los datos están estructurados en una serie de variables obtenidas de clientes del departamento de créditos de un banco. Proporcionan datos relevantes sobre los préstamos otorgados, categorizando los mismos según hayan caído en default o no. \n",
    "\n",
    "2) La variable target etiqueta aquellos prestamos que han sido pagados y los que no(default). El valor 0 se corresponde con aquellos que han pagado el préstamo, mientras que si toma valor 1 es porque han incumplido.\n",
    "\n",
    "3)Atributos disponibles:\n",
    "\n",
    "    -LOAN: monto del préstamo solicitado.\n",
    "    -MORTDUE: Monto adeudado de la hipoteca existente.\n",
    "    -VALUE: valor de la propiedad actual.\n",
    "    -YOJ: cantidad de años en el trabajo actual.\n",
    "    -DEROG: Número de informes derogativos.\n",
    "    -DELINQ: Número de líneas de crédito morosas.\n",
    "    -CLAGE: Antigüedad de la línea comercial más antigua en meses.\n",
    "    -NINQ:\n",
    "    -CLNO: \n",
    "    -DEBTINC: \n",
    "\n",
    "4) LOAN - DEROG - DELINQ\n"
   ]
  },
  {
   "cell_type": "markdown",
   "metadata": {},
   "source": [
    "## Ejercicio 2: Predicción con Modelos Lineales\n",
    "\n",
    "En este ejercicio se entrenarán modelos lineales de clasificación para predecir la variable objetivo.\n",
    "\n",
    "Para ello, deberán utilizar la clase SGDClassifier de scikit-learn.\n",
    "\n",
    "Documentación:\n",
    "- https://scikit-learn.org/stable/modules/sgd.html\n",
    "- https://scikit-learn.org/stable/modules/generated/sklearn.linear_model.SGDClassifier.html\n"
   ]
  },
  {
   "cell_type": "markdown",
   "metadata": {},
   "source": [
    "### Ejercicio 2.1: SGDClassifier con hiperparámetros por defecto\n",
    "\n",
    "Entrenar y evaluar el clasificador SGDClassifier usando los valores por omisión de scikit-learn para todos los parámetros. Únicamente **fijar la semilla aleatoria** para hacer repetible el experimento.\n",
    "\n",
    "Evaluar sobre el conjunto de **entrenamiento** y sobre el conjunto de **evaluación**, reportando:\n",
    "- Accuracy\n",
    "- Precision\n",
    "- Recall\n",
    "- F1\n",
    "- matriz de confusión"
   ]
  },
  {
   "cell_type": "code",
   "execution_count": 26,
   "metadata": {},
   "outputs": [
    {
     "name": "stderr",
     "output_type": "stream",
     "text": [
      "C:\\Users\\arrua\\anaconda3\\lib\\site-packages\\seaborn\\_decorators.py:36: FutureWarning: Pass the following variable as a keyword arg: x. From version 0.12, the only valid positional argument will be `data`, and passing other arguments without an explicit keyword will result in an error or misinterpretation.\n",
      "  warnings.warn(\n"
     ]
    },
    {
     "data": {
      "image/png": "[encoded data removed]",
      "text/plain": [
       "<Figure size 432x288 with 1 Axes>"
      ]
     },
     "metadata": {
      "needs_background": "light"
     },
     "output_type": "display_data"
    }
   ],
   "source": [
    "sns.countplot(dataset.TARGET)\n",
    "plt.title(\"Variable TARGET\")\n",
    "plt.show()"
   ]
  },
  {
   "cell_type": "markdown",
   "metadata": {},
   "source": [
    "La variable objetivo esta muy desbalanceada."
   ]
  },
  {
   "cell_type": "code",
   "execution_count": 20,
   "metadata": {},
   "outputs": [
    {
     "name": "stdout",
     "output_type": "stream",
     "text": [
      "ENTRENAMIENTO\n",
      "              precision    recall  f1-score   support\n",
      "\n",
      "           0       0.83      1.00      0.91      1232\n",
      "           1       0.00      0.00      0.00       251\n",
      "\n",
      "    accuracy                           0.83      1483\n",
      "   macro avg       0.42      0.50      0.45      1483\n",
      "weighted avg       0.69      0.83      0.75      1483\n",
      "\n",
      "TESTEO\n",
      "              precision    recall  f1-score   support\n",
      "\n",
      "           0       0.84      1.00      0.92       313\n",
      "           1       0.00      0.00      0.00        58\n",
      "\n",
      "    accuracy                           0.84       371\n",
      "   macro avg       0.42      0.50      0.46       371\n",
      "weighted avg       0.71      0.84      0.77       371\n",
      "\n"
     ]
    },
    {
     "name": "stderr",
     "output_type": "stream",
     "text": [
      "C:\\Users\\arrua\\anaconda3\\lib\\site-packages\\sklearn\\metrics\\_classification.py:1221: UndefinedMetricWarning: Precision and F-score are ill-defined and being set to 0.0 in labels with no predicted samples. Use `zero_division` parameter to control this behavior.\n",
      "  _warn_prf(average, modifier, msg_start, len(result))\n"
     ]
    }
   ],
   "source": [
    "classifier=SGDClassifier(random_state=42)\n",
    "\n",
    "classifier.fit(X_train,y_train)\n",
    "\n",
    "y_pred_train=classifier.predict(X_train)\n",
    "y_pred_test=classifier.predict(X_test)\n",
    "\n",
    "print(\"ENTRENAMIENTO\")\n",
    "print(classification_report(y_train, y_pred_train))\n",
    "\n",
    "print(\"TESTEO\")\n",
    "print(classification_report(y_test, y_pred_test))"
   ]
  },
  {
   "cell_type": "code",
   "execution_count": 24,
   "metadata": {},
   "outputs": [
    {
     "data": {
      "image/png": "[encoded data removed]",
      "text/plain": [
       "<Figure size 432x288 with 2 Axes>"
      ]
     },
     "metadata": {
      "needs_background": "light"
     },
     "output_type": "display_data"
    }
   ],
   "source": [
    "cm=confusion_matrix(y_test,y_pred_test)\n",
    "\n",
    "sns.heatmap(cm, annot=True)\n",
    "\n",
    "plt.title(\"Confusion matrix\")\n",
    "plt.show()"
   ]
  },
  {
   "cell_type": "markdown",
   "metadata": {},
   "source": [
    "### Ejercicio 2.2: Ajuste de Hiperparámetros\n",
    "\n",
    "Seleccionar valores para los hiperparámetros principales del SGDClassifier. Como mínimo, probar diferentes funciones de loss, tasas de entrenamiento y tasas de regularización.\n",
    "\n",
    "Para ello, usar grid-search y 5-fold cross-validation sobre el conjunto de entrenamiento para explorar muchas combinaciones posibles de valores.\n",
    "\n",
    "Reportar accuracy promedio y varianza para todas las configuraciones.\n",
    "\n",
    "Para la mejor configuración encontrada, evaluar sobre el conjunto de **entrenamiento** y sobre el conjunto de **evaluación**, reportando:\n",
    "- Accuracy\n",
    "- Precision\n",
    "- Recall\n",
    "- F1\n",
    "- matriz de confusión\n",
    "\n",
    "Documentación:\n",
    "- https://scikit-learn.org/stable/modules/grid_search.html\n",
    "- https://scikit-learn.org/stable/modules/generated/sklearn.model_selection.GridSearchCV.html"
   ]
  },
  {
   "cell_type": "code",
   "execution_count": 44,
   "metadata": {},
   "outputs": [
    {
     "name": "stdout",
     "output_type": "stream",
     "text": [
      "El mejor es: 0.830749 con {'alpha': 0.1, 'eta0': 0.01, 'learning_rate': 'constant', 'loss': 'squared_hinge'}\n",
      "0.696067 (0.262193) con: {'alpha': 0.1, 'eta0': 0.01, 'learning_rate': 'optimal', 'loss': 'hinge'}\n",
      "0.564310 (0.321709) con: {'alpha': 0.1, 'eta0': 0.01, 'learning_rate': 'optimal', 'loss': 'log'}\n",
      "0.564310 (0.321709) con: {'alpha': 0.1, 'eta0': 0.01, 'learning_rate': 'optimal', 'loss': 'modified_huber'}\n",
      "0.700783 (0.259485) con: {'alpha': 0.1, 'eta0': 0.01, 'learning_rate': 'optimal', 'loss': 'squared_hinge'}\n",
      "0.696067 (0.262193) con: {'alpha': 0.1, 'eta0': 0.01, 'learning_rate': 'optimal', 'loss': 'perceptron'}\n",
      "0.691355 (0.257091) con: {'alpha': 0.1, 'eta0': 0.01, 'learning_rate': 'constant', 'loss': 'hinge'}\n",
      "0.699434 (0.260496) con: {'alpha': 0.1, 'eta0': 0.01, 'learning_rate': 'constant', 'loss': 'log'}\n",
      "0.699434 (0.260496) con: {'alpha': 0.1, 'eta0': 0.01, 'learning_rate': 'constant', 'loss': 'modified_huber'}\n",
      "0.830749 (0.001259) con: {'alpha': 0.1, 'eta0': 0.01, 'learning_rate': 'constant', 'loss': 'squared_hinge'}\n",
      "0.691355 (0.257091) con: {'alpha': 0.1, 'eta0': 0.01, 'learning_rate': 'constant', 'loss': 'perceptron'}\n",
      "0.698089 (0.264872) con: {'alpha': 0.1, 'eta0': 0.01, 'learning_rate': 'invscaling', 'loss': 'hinge'}\n",
      "0.700109 (0.260832) con: {'alpha': 0.1, 'eta0': 0.01, 'learning_rate': 'invscaling', 'loss': 'log'}\n",
      "0.700109 (0.260832) con: {'alpha': 0.1, 'eta0': 0.01, 'learning_rate': 'invscaling', 'loss': 'modified_huber'}\n",
      "0.687970 (0.260029) con: {'alpha': 0.1, 'eta0': 0.01, 'learning_rate': 'invscaling', 'loss': 'squared_hinge'}\n",
      "0.698089 (0.264872) con: {'alpha': 0.1, 'eta0': 0.01, 'learning_rate': 'invscaling', 'loss': 'perceptron'}\n",
      "0.734384 (0.146871) con: {'alpha': 0.1, 'eta0': 0.01, 'learning_rate': 'adaptive', 'loss': 'hinge'}\n",
      "0.743880 (0.148885) con: {'alpha': 0.1, 'eta0': 0.01, 'learning_rate': 'adaptive', 'loss': 'log'}\n",
      "0.708190 (0.154402) con: {'alpha': 0.1, 'eta0': 0.01, 'learning_rate': 'adaptive', 'loss': 'modified_huber'}\n",
      "0.570379 (0.319768) con: {'alpha': 0.1, 'eta0': 0.01, 'learning_rate': 'adaptive', 'loss': 'squared_hinge'}\n",
      "0.635736 (0.247822) con: {'alpha': 0.1, 'eta0': 0.01, 'learning_rate': 'adaptive', 'loss': 'perceptron'}\n",
      "0.696067 (0.262193) con: {'alpha': 0.1, 'eta0': 0.001, 'learning_rate': 'optimal', 'loss': 'hinge'}\n",
      "0.564310 (0.321709) con: {'alpha': 0.1, 'eta0': 0.001, 'learning_rate': 'optimal', 'loss': 'log'}\n",
      "0.564310 (0.321709) con: {'alpha': 0.1, 'eta0': 0.001, 'learning_rate': 'optimal', 'loss': 'modified_huber'}\n",
      "0.700783 (0.259485) con: {'alpha': 0.1, 'eta0': 0.001, 'learning_rate': 'optimal', 'loss': 'squared_hinge'}\n",
      "0.696067 (0.262193) con: {'alpha': 0.1, 'eta0': 0.001, 'learning_rate': 'optimal', 'loss': 'perceptron'}\n",
      "0.701456 (0.256455) con: {'alpha': 0.1, 'eta0': 0.001, 'learning_rate': 'constant', 'loss': 'hinge'}\n",
      "0.694049 (0.258121) con: {'alpha': 0.1, 'eta0': 0.001, 'learning_rate': 'constant', 'loss': 'log'}\n",
      "0.694049 (0.258121) con: {'alpha': 0.1, 'eta0': 0.001, 'learning_rate': 'constant', 'loss': 'modified_huber'}\n",
      "0.700109 (0.260832) con: {'alpha': 0.1, 'eta0': 0.001, 'learning_rate': 'constant', 'loss': 'squared_hinge'}\n",
      "0.701456 (0.256455) con: {'alpha': 0.1, 'eta0': 0.001, 'learning_rate': 'constant', 'loss': 'perceptron'}\n",
      "0.830749 (0.001259) con: {'alpha': 0.1, 'eta0': 0.001, 'learning_rate': 'invscaling', 'loss': 'hinge'}\n",
      "0.830076 (0.001478) con: {'alpha': 0.1, 'eta0': 0.001, 'learning_rate': 'invscaling', 'loss': 'log'}\n",
      "0.698089 (0.264872) con: {'alpha': 0.1, 'eta0': 0.001, 'learning_rate': 'invscaling', 'loss': 'modified_huber'}\n",
      "0.677812 (0.253052) con: {'alpha': 0.1, 'eta0': 0.001, 'learning_rate': 'invscaling', 'loss': 'squared_hinge'}\n",
      "0.830749 (0.001259) con: {'alpha': 0.1, 'eta0': 0.001, 'learning_rate': 'invscaling', 'loss': 'perceptron'}\n",
      "0.772836 (0.107127) con: {'alpha': 0.1, 'eta0': 0.001, 'learning_rate': 'adaptive', 'loss': 'hinge'}\n",
      "0.769479 (0.127235) con: {'alpha': 0.1, 'eta0': 0.001, 'learning_rate': 'adaptive', 'loss': 'log'}\n",
      "0.805080 (0.048004) con: {'alpha': 0.1, 'eta0': 0.001, 'learning_rate': 'adaptive', 'loss': 'modified_huber'}\n",
      "0.693375 (0.199083) con: {'alpha': 0.1, 'eta0': 0.001, 'learning_rate': 'adaptive', 'loss': 'squared_hinge'}\n",
      "0.772165 (0.106847) con: {'alpha': 0.1, 'eta0': 0.001, 'learning_rate': 'adaptive', 'loss': 'perceptron'}\n",
      "0.696067 (0.262193) con: {'alpha': 0.1, 'eta0': 0.0001, 'learning_rate': 'optimal', 'loss': 'hinge'}\n",
      "0.564310 (0.321709) con: {'alpha': 0.1, 'eta0': 0.0001, 'learning_rate': 'optimal', 'loss': 'log'}\n",
      "0.564310 (0.321709) con: {'alpha': 0.1, 'eta0': 0.0001, 'learning_rate': 'optimal', 'loss': 'modified_huber'}\n",
      "0.700783 (0.259485) con: {'alpha': 0.1, 'eta0': 0.0001, 'learning_rate': 'optimal', 'loss': 'squared_hinge'}\n",
      "0.696067 (0.262193) con: {'alpha': 0.1, 'eta0': 0.0001, 'learning_rate': 'optimal', 'loss': 'perceptron'}\n",
      "0.700109 (0.260832) con: {'alpha': 0.1, 'eta0': 0.0001, 'learning_rate': 'constant', 'loss': 'hinge'}\n",
      "0.610515 (0.260697) con: {'alpha': 0.1, 'eta0': 0.0001, 'learning_rate': 'constant', 'loss': 'log'}\n",
      "0.610515 (0.260697) con: {'alpha': 0.1, 'eta0': 0.0001, 'learning_rate': 'constant', 'loss': 'modified_huber'}\n",
      "0.662399 (0.256357) con: {'alpha': 0.1, 'eta0': 0.0001, 'learning_rate': 'constant', 'loss': 'squared_hinge'}\n",
      "0.700109 (0.260832) con: {'alpha': 0.1, 'eta0': 0.0001, 'learning_rate': 'constant', 'loss': 'perceptron'}\n",
      "0.694722 (0.263255) con: {'alpha': 0.1, 'eta0': 0.0001, 'learning_rate': 'invscaling', 'loss': 'hinge'}\n",
      "0.698089 (0.264872) con: {'alpha': 0.1, 'eta0': 0.0001, 'learning_rate': 'invscaling', 'loss': 'log'}\n",
      "0.698089 (0.264872) con: {'alpha': 0.1, 'eta0': 0.0001, 'learning_rate': 'invscaling', 'loss': 'modified_huber'}\n",
      "0.565429 (0.324215) con: {'alpha': 0.1, 'eta0': 0.0001, 'learning_rate': 'invscaling', 'loss': 'squared_hinge'}\n",
      "0.825362 (0.006320) con: {'alpha': 0.1, 'eta0': 0.0001, 'learning_rate': 'invscaling', 'loss': 'perceptron'}\n",
      "0.715597 (0.228182) con: {'alpha': 0.1, 'eta0': 0.0001, 'learning_rate': 'adaptive', 'loss': 'hinge'}\n",
      "0.697413 (0.264536) con: {'alpha': 0.1, 'eta0': 0.0001, 'learning_rate': 'adaptive', 'loss': 'log'}\n",
      "0.714926 (0.229558) con: {'alpha': 0.1, 'eta0': 0.0001, 'learning_rate': 'adaptive', 'loss': 'modified_huber'}\n",
      "0.736473 (0.188105) con: {'alpha': 0.1, 'eta0': 0.0001, 'learning_rate': 'adaptive', 'loss': 'squared_hinge'}\n",
      "0.580471 (0.300539) con: {'alpha': 0.1, 'eta0': 0.0001, 'learning_rate': 'adaptive', 'loss': 'perceptron'}\n",
      "0.696067 (0.262193) con: {'alpha': 0.01, 'eta0': 0.01, 'learning_rate': 'optimal', 'loss': 'hinge'}\n",
      "0.564310 (0.321709) con: {'alpha': 0.01, 'eta0': 0.01, 'learning_rate': 'optimal', 'loss': 'log'}\n",
      "0.564310 (0.321709) con: {'alpha': 0.01, 'eta0': 0.01, 'learning_rate': 'optimal', 'loss': 'modified_huber'}\n",
      "0.681254 (0.258445) con: {'alpha': 0.01, 'eta0': 0.01, 'learning_rate': 'optimal', 'loss': 'squared_hinge'}\n",
      "0.696067 (0.262193) con: {'alpha': 0.01, 'eta0': 0.01, 'learning_rate': 'optimal', 'loss': 'perceptron'}\n",
      "0.701456 (0.256455) con: {'alpha': 0.01, 'eta0': 0.01, 'learning_rate': 'constant', 'loss': 'hinge'}\n",
      "0.694049 (0.258121) con: {'alpha': 0.01, 'eta0': 0.01, 'learning_rate': 'constant', 'loss': 'log'}\n",
      "0.694049 (0.258121) con: {'alpha': 0.01, 'eta0': 0.01, 'learning_rate': 'constant', 'loss': 'modified_huber'}\n",
      "0.700109 (0.260832) con: {'alpha': 0.01, 'eta0': 0.01, 'learning_rate': 'constant', 'loss': 'squared_hinge'}\n",
      "0.701456 (0.256455) con: {'alpha': 0.01, 'eta0': 0.01, 'learning_rate': 'constant', 'loss': 'perceptron'}\n",
      "0.830749 (0.001259) con: {'alpha': 0.01, 'eta0': 0.01, 'learning_rate': 'invscaling', 'loss': 'hinge'}\n",
      "0.698089 (0.264872) con: {'alpha': 0.01, 'eta0': 0.01, 'learning_rate': 'invscaling', 'loss': 'log'}\n",
      "0.698089 (0.264872) con: {'alpha': 0.01, 'eta0': 0.01, 'learning_rate': 'invscaling', 'loss': 'modified_huber'}\n",
      "0.696742 (0.262562) con: {'alpha': 0.01, 'eta0': 0.01, 'learning_rate': 'invscaling', 'loss': 'squared_hinge'}\n",
      "0.830749 (0.001259) con: {'alpha': 0.01, 'eta0': 0.01, 'learning_rate': 'invscaling', 'loss': 'perceptron'}\n",
      "0.721628 (0.150981) con: {'alpha': 0.01, 'eta0': 0.01, 'learning_rate': 'adaptive', 'loss': 'hinge'}\n",
      "0.778226 (0.076573) con: {'alpha': 0.01, 'eta0': 0.01, 'learning_rate': 'adaptive', 'loss': 'log'}\n",
      "0.757351 (0.079721) con: {'alpha': 0.01, 'eta0': 0.01, 'learning_rate': 'adaptive', 'loss': 'modified_huber'}\n",
      "0.748446 (0.085268) con: {'alpha': 0.01, 'eta0': 0.01, 'learning_rate': 'adaptive', 'loss': 'squared_hinge'}\n",
      "0.721628 (0.150981) con: {'alpha': 0.01, 'eta0': 0.01, 'learning_rate': 'adaptive', 'loss': 'perceptron'}\n",
      "0.696067 (0.262193) con: {'alpha': 0.01, 'eta0': 0.001, 'learning_rate': 'optimal', 'loss': 'hinge'}\n",
      "0.564310 (0.321709) con: {'alpha': 0.01, 'eta0': 0.001, 'learning_rate': 'optimal', 'loss': 'log'}\n",
      "0.564310 (0.321709) con: {'alpha': 0.01, 'eta0': 0.001, 'learning_rate': 'optimal', 'loss': 'modified_huber'}\n",
      "0.681254 (0.258445) con: {'alpha': 0.01, 'eta0': 0.001, 'learning_rate': 'optimal', 'loss': 'squared_hinge'}\n",
      "0.696067 (0.262193) con: {'alpha': 0.01, 'eta0': 0.001, 'learning_rate': 'optimal', 'loss': 'perceptron'}\n",
      "0.700109 (0.260832) con: {'alpha': 0.01, 'eta0': 0.001, 'learning_rate': 'constant', 'loss': 'hinge'}\n",
      "0.610515 (0.260697) con: {'alpha': 0.01, 'eta0': 0.001, 'learning_rate': 'constant', 'loss': 'log'}\n",
      "0.610515 (0.260697) con: {'alpha': 0.01, 'eta0': 0.001, 'learning_rate': 'constant', 'loss': 'modified_huber'}\n",
      "0.662399 (0.256357) con: {'alpha': 0.01, 'eta0': 0.001, 'learning_rate': 'constant', 'loss': 'squared_hinge'}\n",
      "0.700109 (0.260832) con: {'alpha': 0.01, 'eta0': 0.001, 'learning_rate': 'constant', 'loss': 'perceptron'}\n",
      "0.827382 (0.006393) con: {'alpha': 0.01, 'eta0': 0.001, 'learning_rate': 'invscaling', 'loss': 'hinge'}\n",
      "0.700107 (0.259149) con: {'alpha': 0.01, 'eta0': 0.001, 'learning_rate': 'invscaling', 'loss': 'log'}\n",
      "0.698089 (0.264872) con: {'alpha': 0.01, 'eta0': 0.001, 'learning_rate': 'invscaling', 'loss': 'modified_huber'}\n",
      "0.559368 (0.318171) con: {'alpha': 0.01, 'eta0': 0.001, 'learning_rate': 'invscaling', 'loss': 'squared_hinge'}\n",
      "0.825362 (0.006320) con: {'alpha': 0.01, 'eta0': 0.001, 'learning_rate': 'invscaling', 'loss': 'perceptron'}\n",
      "0.803140 (0.056493) con: {'alpha': 0.01, 'eta0': 0.001, 'learning_rate': 'adaptive', 'loss': 'hinge'}\n",
      "0.705446 (0.128751) con: {'alpha': 0.01, 'eta0': 0.001, 'learning_rate': 'adaptive', 'loss': 'log'}\n",
      "0.772839 (0.085515) con: {'alpha': 0.01, 'eta0': 0.001, 'learning_rate': 'adaptive', 'loss': 'modified_huber'}\n",
      "0.783611 (0.060141) con: {'alpha': 0.01, 'eta0': 0.001, 'learning_rate': 'adaptive', 'loss': 'squared_hinge'}\n",
      "0.803140 (0.056493) con: {'alpha': 0.01, 'eta0': 0.001, 'learning_rate': 'adaptive', 'loss': 'perceptron'}\n",
      "0.696067 (0.262193) con: {'alpha': 0.01, 'eta0': 0.0001, 'learning_rate': 'optimal', 'loss': 'hinge'}\n",
      "0.564310 (0.321709) con: {'alpha': 0.01, 'eta0': 0.0001, 'learning_rate': 'optimal', 'loss': 'log'}\n",
      "0.564310 (0.321709) con: {'alpha': 0.01, 'eta0': 0.0001, 'learning_rate': 'optimal', 'loss': 'modified_huber'}\n",
      "0.681254 (0.258445) con: {'alpha': 0.01, 'eta0': 0.0001, 'learning_rate': 'optimal', 'loss': 'squared_hinge'}\n",
      "0.696067 (0.262193) con: {'alpha': 0.01, 'eta0': 0.0001, 'learning_rate': 'optimal', 'loss': 'perceptron'}\n",
      "0.698762 (0.260166) con: {'alpha': 0.01, 'eta0': 0.0001, 'learning_rate': 'constant', 'loss': 'hinge'}\n",
      "0.696740 (0.264198) con: {'alpha': 0.01, 'eta0': 0.0001, 'learning_rate': 'constant', 'loss': 'log'}\n",
      "0.696740 (0.264198) con: {'alpha': 0.01, 'eta0': 0.0001, 'learning_rate': 'constant', 'loss': 'modified_huber'}\n",
      "0.703476 (0.254098) con: {'alpha': 0.01, 'eta0': 0.0001, 'learning_rate': 'constant', 'loss': 'squared_hinge'}\n",
      "0.698762 (0.260166) con: {'alpha': 0.01, 'eta0': 0.0001, 'learning_rate': 'constant', 'loss': 'perceptron'}\n",
      "0.698089 (0.264872) con: {'alpha': 0.01, 'eta0': 0.0001, 'learning_rate': 'invscaling', 'loss': 'hinge'}\n",
      "0.577553 (0.312586) con: {'alpha': 0.01, 'eta0': 0.0001, 'learning_rate': 'invscaling', 'loss': 'log'}\n",
      "0.565429 (0.324215) con: {'alpha': 0.01, 'eta0': 0.0001, 'learning_rate': 'invscaling', 'loss': 'modified_huber'}\n",
      "0.694706 (0.258276) con: {'alpha': 0.01, 'eta0': 0.0001, 'learning_rate': 'invscaling', 'loss': 'squared_hinge'}\n",
      "0.572159 (0.314816) con: {'alpha': 0.01, 'eta0': 0.0001, 'learning_rate': 'invscaling', 'loss': 'perceptron'}\n",
      "0.830073 (0.001721) con: {'alpha': 0.01, 'eta0': 0.0001, 'learning_rate': 'adaptive', 'loss': 'hinge'}\n",
      "0.741184 (0.123921) con: {'alpha': 0.01, 'eta0': 0.0001, 'learning_rate': 'adaptive', 'loss': 'log'}\n",
      "0.830749 (0.001259) con: {'alpha': 0.01, 'eta0': 0.0001, 'learning_rate': 'adaptive', 'loss': 'modified_huber'}\n",
      "0.698760 (0.261842) con: {'alpha': 0.01, 'eta0': 0.0001, 'learning_rate': 'adaptive', 'loss': 'squared_hinge'}\n",
      "0.830073 (0.001721) con: {'alpha': 0.01, 'eta0': 0.0001, 'learning_rate': 'adaptive', 'loss': 'perceptron'}\n",
      "0.696067 (0.262193) con: {'alpha': 0.001, 'eta0': 0.01, 'learning_rate': 'optimal', 'loss': 'hinge'}\n",
      "0.564310 (0.321709) con: {'alpha': 0.001, 'eta0': 0.01, 'learning_rate': 'optimal', 'loss': 'log'}\n",
      "0.564310 (0.321709) con: {'alpha': 0.001, 'eta0': 0.01, 'learning_rate': 'optimal', 'loss': 'modified_huber'}\n",
      "0.562044 (0.317481) con: {'alpha': 0.001, 'eta0': 0.01, 'learning_rate': 'optimal', 'loss': 'squared_hinge'}\n",
      "0.696067 (0.262193) con: {'alpha': 0.001, 'eta0': 0.01, 'learning_rate': 'optimal', 'loss': 'perceptron'}\n",
      "0.700109 (0.260832) con: {'alpha': 0.001, 'eta0': 0.01, 'learning_rate': 'constant', 'loss': 'hinge'}\n",
      "0.610515 (0.260697) con: {'alpha': 0.001, 'eta0': 0.01, 'learning_rate': 'constant', 'loss': 'log'}\n",
      "0.610515 (0.260697) con: {'alpha': 0.001, 'eta0': 0.01, 'learning_rate': 'constant', 'loss': 'modified_huber'}\n",
      "0.684587 (0.258747) con: {'alpha': 0.001, 'eta0': 0.01, 'learning_rate': 'constant', 'loss': 'squared_hinge'}\n",
      "0.700109 (0.260832) con: {'alpha': 0.001, 'eta0': 0.01, 'learning_rate': 'constant', 'loss': 'perceptron'}\n",
      "0.825362 (0.006320) con: {'alpha': 0.001, 'eta0': 0.01, 'learning_rate': 'invscaling', 'loss': 'hinge'}\n",
      "0.698089 (0.264872) con: {'alpha': 0.001, 'eta0': 0.01, 'learning_rate': 'invscaling', 'loss': 'log'}\n",
      "0.698089 (0.264872) con: {'alpha': 0.001, 'eta0': 0.01, 'learning_rate': 'invscaling', 'loss': 'modified_huber'}\n",
      "0.565427 (0.322841) con: {'alpha': 0.001, 'eta0': 0.01, 'learning_rate': 'invscaling', 'loss': 'squared_hinge'}\n",
      "0.825362 (0.006320) con: {'alpha': 0.001, 'eta0': 0.01, 'learning_rate': 'invscaling', 'loss': 'perceptron'}\n",
      "0.769344 (0.046161) con: {'alpha': 0.001, 'eta0': 0.01, 'learning_rate': 'adaptive', 'loss': 'hinge'}\n",
      "0.780187 (0.024376) con: {'alpha': 0.001, 'eta0': 0.01, 'learning_rate': 'adaptive', 'loss': 'log'}\n",
      "0.783563 (0.018343) con: {'alpha': 0.001, 'eta0': 0.01, 'learning_rate': 'adaptive', 'loss': 'modified_huber'}\n",
      "0.771451 (0.035364) con: {'alpha': 0.001, 'eta0': 0.01, 'learning_rate': 'adaptive', 'loss': 'squared_hinge'}\n",
      "0.769344 (0.046161) con: {'alpha': 0.001, 'eta0': 0.01, 'learning_rate': 'adaptive', 'loss': 'perceptron'}\n",
      "0.696067 (0.262193) con: {'alpha': 0.001, 'eta0': 0.001, 'learning_rate': 'optimal', 'loss': 'hinge'}\n",
      "0.564310 (0.321709) con: {'alpha': 0.001, 'eta0': 0.001, 'learning_rate': 'optimal', 'loss': 'log'}\n",
      "0.564310 (0.321709) con: {'alpha': 0.001, 'eta0': 0.001, 'learning_rate': 'optimal', 'loss': 'modified_huber'}\n",
      "0.562044 (0.317481) con: {'alpha': 0.001, 'eta0': 0.001, 'learning_rate': 'optimal', 'loss': 'squared_hinge'}\n",
      "0.696067 (0.262193) con: {'alpha': 0.001, 'eta0': 0.001, 'learning_rate': 'optimal', 'loss': 'perceptron'}\n",
      "0.698762 (0.260166) con: {'alpha': 0.001, 'eta0': 0.001, 'learning_rate': 'constant', 'loss': 'hinge'}\n",
      "0.696740 (0.264198) con: {'alpha': 0.001, 'eta0': 0.001, 'learning_rate': 'constant', 'loss': 'log'}\n",
      "0.696740 (0.264198) con: {'alpha': 0.001, 'eta0': 0.001, 'learning_rate': 'constant', 'loss': 'modified_huber'}\n",
      "0.700109 (0.260832) con: {'alpha': 0.001, 'eta0': 0.001, 'learning_rate': 'constant', 'loss': 'squared_hinge'}\n",
      "0.698762 (0.260166) con: {'alpha': 0.001, 'eta0': 0.001, 'learning_rate': 'constant', 'loss': 'perceptron'}\n",
      "0.698089 (0.264872) con: {'alpha': 0.001, 'eta0': 0.001, 'learning_rate': 'invscaling', 'loss': 'hinge'}\n",
      "0.566102 (0.323392) con: {'alpha': 0.001, 'eta0': 0.001, 'learning_rate': 'invscaling', 'loss': 'log'}\n",
      "0.698089 (0.264872) con: {'alpha': 0.001, 'eta0': 0.001, 'learning_rate': 'invscaling', 'loss': 'modified_huber'}\n",
      "0.784284 (0.052993) con: {'alpha': 0.001, 'eta0': 0.001, 'learning_rate': 'invscaling', 'loss': 'squared_hinge'}\n",
      "0.572159 (0.314816) con: {'alpha': 0.001, 'eta0': 0.001, 'learning_rate': 'invscaling', 'loss': 'perceptron'}\n",
      "0.803142 (0.047313) con: {'alpha': 0.001, 'eta0': 0.001, 'learning_rate': 'adaptive', 'loss': 'hinge'}\n",
      "0.765397 (0.083080) con: {'alpha': 0.001, 'eta0': 0.001, 'learning_rate': 'adaptive', 'loss': 'log'}\n",
      "0.819301 (0.017740) con: {'alpha': 0.001, 'eta0': 0.001, 'learning_rate': 'adaptive', 'loss': 'modified_huber'}\n",
      "0.823342 (0.014412) con: {'alpha': 0.001, 'eta0': 0.001, 'learning_rate': 'adaptive', 'loss': 'squared_hinge'}\n",
      "0.766102 (0.119081) con: {'alpha': 0.001, 'eta0': 0.001, 'learning_rate': 'adaptive', 'loss': 'perceptron'}\n",
      "0.696067 (0.262193) con: {'alpha': 0.001, 'eta0': 0.0001, 'learning_rate': 'optimal', 'loss': 'hinge'}\n",
      "0.564310 (0.321709) con: {'alpha': 0.001, 'eta0': 0.0001, 'learning_rate': 'optimal', 'loss': 'log'}\n",
      "0.564310 (0.321709) con: {'alpha': 0.001, 'eta0': 0.0001, 'learning_rate': 'optimal', 'loss': 'modified_huber'}\n",
      "0.562044 (0.317481) con: {'alpha': 0.001, 'eta0': 0.0001, 'learning_rate': 'optimal', 'loss': 'squared_hinge'}\n",
      "0.696067 (0.262193) con: {'alpha': 0.001, 'eta0': 0.0001, 'learning_rate': 'optimal', 'loss': 'perceptron'}\n",
      "0.698762 (0.260166) con: {'alpha': 0.001, 'eta0': 0.0001, 'learning_rate': 'constant', 'loss': 'hinge'}\n",
      "0.700068 (0.222981) con: {'alpha': 0.001, 'eta0': 0.0001, 'learning_rate': 'constant', 'loss': 'log'}\n",
      "0.696014 (0.220797) con: {'alpha': 0.001, 'eta0': 0.0001, 'learning_rate': 'constant', 'loss': 'modified_huber'}\n",
      "0.685968 (0.255172) con: {'alpha': 0.001, 'eta0': 0.0001, 'learning_rate': 'constant', 'loss': 'squared_hinge'}\n",
      "0.698762 (0.260166) con: {'alpha': 0.001, 'eta0': 0.0001, 'learning_rate': 'constant', 'loss': 'perceptron'}\n",
      "0.575528 (0.311991) con: {'alpha': 0.001, 'eta0': 0.0001, 'learning_rate': 'invscaling', 'loss': 'hinge'}\n",
      "0.819262 (0.021182) con: {'alpha': 0.001, 'eta0': 0.0001, 'learning_rate': 'invscaling', 'loss': 'log'}\n",
      "0.698089 (0.264872) con: {'alpha': 0.001, 'eta0': 0.0001, 'learning_rate': 'invscaling', 'loss': 'modified_huber'}\n",
      "0.695393 (0.263540) con: {'alpha': 0.001, 'eta0': 0.0001, 'learning_rate': 'invscaling', 'loss': 'squared_hinge'}\n",
      "0.677885 (0.253303) con: {'alpha': 0.001, 'eta0': 0.0001, 'learning_rate': 'invscaling', 'loss': 'perceptron'}\n",
      "0.830749 (0.001259) con: {'alpha': 0.001, 'eta0': 0.0001, 'learning_rate': 'adaptive', 'loss': 'hinge'}\n",
      "0.612130 (0.274984) con: {'alpha': 0.001, 'eta0': 0.0001, 'learning_rate': 'adaptive', 'loss': 'log'}\n",
      "0.830749 (0.001259) con: {'alpha': 0.001, 'eta0': 0.0001, 'learning_rate': 'adaptive', 'loss': 'modified_huber'}\n",
      "0.704150 (0.252751) con: {'alpha': 0.001, 'eta0': 0.0001, 'learning_rate': 'adaptive', 'loss': 'squared_hinge'}\n",
      "0.830749 (0.001259) con: {'alpha': 0.001, 'eta0': 0.0001, 'learning_rate': 'adaptive', 'loss': 'perceptron'}\n",
      "0.696067 (0.262193) con: {'alpha': 0.0001, 'eta0': 0.01, 'learning_rate': 'optimal', 'loss': 'hinge'}\n",
      "0.564310 (0.321709) con: {'alpha': 0.0001, 'eta0': 0.01, 'learning_rate': 'optimal', 'loss': 'log'}\n",
      "0.564310 (0.321709) con: {'alpha': 0.0001, 'eta0': 0.01, 'learning_rate': 'optimal', 'loss': 'modified_huber'}\n",
      "0.821995 (0.011363) con: {'alpha': 0.0001, 'eta0': 0.01, 'learning_rate': 'optimal', 'loss': 'squared_hinge'}\n",
      "0.696067 (0.262193) con: {'alpha': 0.0001, 'eta0': 0.01, 'learning_rate': 'optimal', 'loss': 'perceptron'}\n",
      "0.698762 (0.260166) con: {'alpha': 0.0001, 'eta0': 0.01, 'learning_rate': 'constant', 'loss': 'hinge'}\n",
      "0.696740 (0.264198) con: {'alpha': 0.0001, 'eta0': 0.01, 'learning_rate': 'constant', 'loss': 'log'}\n",
      "0.696740 (0.264198) con: {'alpha': 0.0001, 'eta0': 0.01, 'learning_rate': 'constant', 'loss': 'modified_huber'}\n",
      "0.688623 (0.256031) con: {'alpha': 0.0001, 'eta0': 0.01, 'learning_rate': 'constant', 'loss': 'squared_hinge'}\n",
      "0.698762 (0.260166) con: {'alpha': 0.0001, 'eta0': 0.01, 'learning_rate': 'constant', 'loss': 'perceptron'}\n",
      "0.572159 (0.314816) con: {'alpha': 0.0001, 'eta0': 0.01, 'learning_rate': 'invscaling', 'loss': 'hinge'}\n",
      "0.670398 (0.255022) con: {'alpha': 0.0001, 'eta0': 0.01, 'learning_rate': 'invscaling', 'loss': 'log'}\n",
      "0.698089 (0.264872) con: {'alpha': 0.0001, 'eta0': 0.01, 'learning_rate': 'invscaling', 'loss': 'modified_huber'}\n",
      "0.693375 (0.262714) con: {'alpha': 0.0001, 'eta0': 0.01, 'learning_rate': 'invscaling', 'loss': 'squared_hinge'}\n",
      "0.572159 (0.314816) con: {'alpha': 0.0001, 'eta0': 0.01, 'learning_rate': 'invscaling', 'loss': 'perceptron'}\n",
      "0.770734 (0.040782) con: {'alpha': 0.0001, 'eta0': 0.01, 'learning_rate': 'adaptive', 'loss': 'hinge'}\n",
      "0.790959 (0.032950) con: {'alpha': 0.0001, 'eta0': 0.01, 'learning_rate': 'adaptive', 'loss': 'log'}\n",
      "0.792984 (0.029007) con: {'alpha': 0.0001, 'eta0': 0.01, 'learning_rate': 'adaptive', 'loss': 'modified_huber'}\n",
      "0.802455 (0.031049) con: {'alpha': 0.0001, 'eta0': 0.01, 'learning_rate': 'adaptive', 'loss': 'squared_hinge'}\n",
      "0.770734 (0.040782) con: {'alpha': 0.0001, 'eta0': 0.01, 'learning_rate': 'adaptive', 'loss': 'perceptron'}\n",
      "0.696067 (0.262193) con: {'alpha': 0.0001, 'eta0': 0.001, 'learning_rate': 'optimal', 'loss': 'hinge'}\n",
      "0.564310 (0.321709) con: {'alpha': 0.0001, 'eta0': 0.001, 'learning_rate': 'optimal', 'loss': 'log'}\n",
      "0.564310 (0.321709) con: {'alpha': 0.0001, 'eta0': 0.001, 'learning_rate': 'optimal', 'loss': 'modified_huber'}\n",
      "0.821995 (0.011363) con: {'alpha': 0.0001, 'eta0': 0.001, 'learning_rate': 'optimal', 'loss': 'squared_hinge'}\n",
      "0.696067 (0.262193) con: {'alpha': 0.0001, 'eta0': 0.001, 'learning_rate': 'optimal', 'loss': 'perceptron'}\n",
      "0.698762 (0.260166) con: {'alpha': 0.0001, 'eta0': 0.001, 'learning_rate': 'constant', 'loss': 'hinge'}\n",
      "0.696014 (0.220797) con: {'alpha': 0.0001, 'eta0': 0.001, 'learning_rate': 'constant', 'loss': 'log'}\n",
      "0.696014 (0.220797) con: {'alpha': 0.0001, 'eta0': 0.001, 'learning_rate': 'constant', 'loss': 'modified_huber'}\n",
      "0.685968 (0.255172) con: {'alpha': 0.0001, 'eta0': 0.001, 'learning_rate': 'constant', 'loss': 'squared_hinge'}\n",
      "0.698762 (0.260166) con: {'alpha': 0.0001, 'eta0': 0.001, 'learning_rate': 'constant', 'loss': 'perceptron'}\n",
      "0.677885 (0.253303) con: {'alpha': 0.0001, 'eta0': 0.001, 'learning_rate': 'invscaling', 'loss': 'hinge'}\n",
      "0.698089 (0.264872) con: {'alpha': 0.0001, 'eta0': 0.001, 'learning_rate': 'invscaling', 'loss': 'log'}\n",
      "0.698089 (0.264872) con: {'alpha': 0.0001, 'eta0': 0.001, 'learning_rate': 'invscaling', 'loss': 'modified_huber'}\n",
      "0.827380 (0.006452) con: {'alpha': 0.0001, 'eta0': 0.001, 'learning_rate': 'invscaling', 'loss': 'squared_hinge'}\n",
      "0.677885 (0.253303) con: {'alpha': 0.0001, 'eta0': 0.001, 'learning_rate': 'invscaling', 'loss': 'perceptron'}\n",
      "0.735790 (0.140342) con: {'alpha': 0.0001, 'eta0': 0.001, 'learning_rate': 'adaptive', 'loss': 'hinge'}\n",
      "0.822659 (0.008633) con: {'alpha': 0.0001, 'eta0': 0.001, 'learning_rate': 'adaptive', 'loss': 'log'}\n",
      "0.776208 (0.102411) con: {'alpha': 0.0001, 'eta0': 0.001, 'learning_rate': 'adaptive', 'loss': 'modified_huber'}\n",
      "0.756001 (0.100313) con: {'alpha': 0.0001, 'eta0': 0.001, 'learning_rate': 'adaptive', 'loss': 'squared_hinge'}\n",
      "0.692019 (0.165878) con: {'alpha': 0.0001, 'eta0': 0.001, 'learning_rate': 'adaptive', 'loss': 'perceptron'}\n",
      "0.696067 (0.262193) con: {'alpha': 0.0001, 'eta0': 0.0001, 'learning_rate': 'optimal', 'loss': 'hinge'}\n",
      "0.564310 (0.321709) con: {'alpha': 0.0001, 'eta0': 0.0001, 'learning_rate': 'optimal', 'loss': 'log'}\n",
      "0.564310 (0.321709) con: {'alpha': 0.0001, 'eta0': 0.0001, 'learning_rate': 'optimal', 'loss': 'modified_huber'}\n",
      "0.821995 (0.011363) con: {'alpha': 0.0001, 'eta0': 0.0001, 'learning_rate': 'optimal', 'loss': 'squared_hinge'}\n",
      "0.696067 (0.262193) con: {'alpha': 0.0001, 'eta0': 0.0001, 'learning_rate': 'optimal', 'loss': 'perceptron'}\n",
      "0.698087 (0.259825) con: {'alpha': 0.0001, 'eta0': 0.0001, 'learning_rate': 'constant', 'loss': 'hinge'}\n",
      "0.705458 (0.222505) con: {'alpha': 0.0001, 'eta0': 0.0001, 'learning_rate': 'constant', 'loss': 'log'}\n",
      "0.705458 (0.222505) con: {'alpha': 0.0001, 'eta0': 0.0001, 'learning_rate': 'constant', 'loss': 'modified_huber'}\n",
      "0.688661 (0.259170) con: {'alpha': 0.0001, 'eta0': 0.0001, 'learning_rate': 'constant', 'loss': 'squared_hinge'}\n",
      "0.698087 (0.259825) con: {'alpha': 0.0001, 'eta0': 0.0001, 'learning_rate': 'constant', 'loss': 'perceptron'}\n",
      "0.575528 (0.311991) con: {'alpha': 0.0001, 'eta0': 0.0001, 'learning_rate': 'invscaling', 'loss': 'hinge'}\n",
      "0.619292 (0.265089) con: {'alpha': 0.0001, 'eta0': 0.0001, 'learning_rate': 'invscaling', 'loss': 'log'}\n",
      "0.575530 (0.313572) con: {'alpha': 0.0001, 'eta0': 0.0001, 'learning_rate': 'invscaling', 'loss': 'modified_huber'}\n",
      "0.828729 (0.003778) con: {'alpha': 0.0001, 'eta0': 0.0001, 'learning_rate': 'invscaling', 'loss': 'squared_hinge'}\n",
      "0.824688 (0.011730) con: {'alpha': 0.0001, 'eta0': 0.0001, 'learning_rate': 'invscaling', 'loss': 'perceptron'}\n",
      "0.701695 (0.257945) con: {'alpha': 0.0001, 'eta0': 0.0001, 'learning_rate': 'adaptive', 'loss': 'hinge'}\n",
      "0.829398 (0.002827) con: {'alpha': 0.0001, 'eta0': 0.0001, 'learning_rate': 'adaptive', 'loss': 'log'}\n",
      "0.828046 (0.005386) con: {'alpha': 0.0001, 'eta0': 0.0001, 'learning_rate': 'adaptive', 'loss': 'modified_huber'}\n",
      "0.828729 (0.003778) con: {'alpha': 0.0001, 'eta0': 0.0001, 'learning_rate': 'adaptive', 'loss': 'squared_hinge'}\n",
      "0.639069 (0.256801) con: {'alpha': 0.0001, 'eta0': 0.0001, 'learning_rate': 'adaptive', 'loss': 'perceptron'}\n"
     ]
    }
   ],
   "source": [
    "params={'loss':['hinge', 'log', 'modified_huber', 'squared_hinge', 'perceptron'],\n",
    "        'alpha':[0.1,0.01,0.001,0.0001],\n",
    "        'learning_rate': ['optimal','constant','invscaling','adaptive'],\n",
    "        'eta0': [0.01,0.001,0.0001]}\n",
    "\n",
    "grid=GridSearchCV(classifier,param_grid=params,cv=5,n_jobs=-1,scoring='accuracy',refit=True)\n",
    "\n",
    "grid.fit(X_train,y_train)\n",
    "\n",
    "print(\"El mejor es: %f con %s\" % (grid.best_score_, grid.best_params_))\n",
    "means_acc= grid.cv_results_['mean_test_score']\n",
    "stds = grid.cv_results_['std_test_score']\n",
    "params = grid.cv_results_['params']\n",
    "for mean, stdev, param in zip(means_acc, stds, params):\n",
    "    print(\"%f (%f) con: %r\" % (mean, stdev, param))"
   ]
  },
  {
   "cell_type": "code",
   "execution_count": 46,
   "metadata": {},
   "outputs": [
    {
     "name": "stdout",
     "output_type": "stream",
     "text": [
      "ENTRENAMIENTO\n",
      "              precision    recall  f1-score   support\n",
      "\n",
      "           0       0.83      1.00      0.91      1232\n",
      "           1       0.00      0.00      0.00       251\n",
      "\n",
      "    accuracy                           0.83      1483\n",
      "   macro avg       0.42      0.50      0.45      1483\n",
      "weighted avg       0.69      0.83      0.75      1483\n",
      "\n",
      "TESTEO\n",
      "              precision    recall  f1-score   support\n",
      "\n",
      "           0       0.84      1.00      0.92       313\n",
      "           1       0.00      0.00      0.00        58\n",
      "\n",
      "    accuracy                           0.84       371\n",
      "   macro avg       0.42      0.50      0.46       371\n",
      "weighted avg       0.71      0.84      0.77       371\n",
      "\n"
     ]
    },
    {
     "name": "stderr",
     "output_type": "stream",
     "text": [
      "C:\\Users\\arrua\\anaconda3\\lib\\site-packages\\sklearn\\metrics\\_classification.py:1221: UndefinedMetricWarning: Precision and F-score are ill-defined and being set to 0.0 in labels with no predicted samples. Use `zero_division` parameter to control this behavior.\n",
      "  _warn_prf(average, modifier, msg_start, len(result))\n"
     ]
    }
   ],
   "source": [
    "y_pred_train=grid.predict(X_train)\n",
    "y_pred_test=grid.predict(X_test)\n",
    "\n",
    "print(\"ENTRENAMIENTO\")\n",
    "print(classification_report(y_train, y_pred_train))\n",
    "\n",
    "print(\"TESTEO\")\n",
    "print(classification_report(y_test, y_pred_test))"
   ]
  },
  {
   "cell_type": "code",
   "execution_count": 47,
   "metadata": {},
   "outputs": [
    {
     "data": {
      "image/png": "[encoded data removed]",
      "text/plain": [
       "<Figure size 432x288 with 2 Axes>"
      ]
     },
     "metadata": {
      "needs_background": "light"
     },
     "output_type": "display_data"
    }
   ],
   "source": [
    "cm=confusion_matrix(y_test,y_pred_test)\n",
    "\n",
    "sns.heatmap(cm, annot=True)\n",
    "\n",
    "plt.title(\"Confusion matrix\")\n",
    "plt.show()"
   ]
  },
  {
   "cell_type": "markdown",
   "metadata": {},
   "source": [
    "## Ejercicio 3: Árboles de Decisión\n",
    "\n",
    "En este ejercicio se entrenarán árboles de decisión para predecir la variable objetivo.\n",
    "\n",
    "Para ello, deberán utilizar la clase DecisionTreeClassifier de scikit-learn.\n",
    "\n",
    "Documentación:\n",
    "- https://scikit-learn.org/stable/modules/tree.html\n",
    "  - https://scikit-learn.org/stable/modules/tree.html#tips-on-practical-use\n",
    "- https://scikit-learn.org/stable/modules/generated/sklearn.tree.DecisionTreeClassifier.html\n",
    "- https://scikit-learn.org/stable/auto_examples/tree/plot_unveil_tree_structure.html"
   ]
  },
  {
   "cell_type": "markdown",
   "metadata": {},
   "source": [
    "### Ejercicio 3.1: DecisionTreeClassifier con hiperparámetros por defecto\n",
    "\n",
    "Entrenar y evaluar el clasificador DecisionTreeClassifier usando los valores por omisión de scikit-learn para todos los parámetros. Únicamente **fijar la semilla aleatoria** para hacer repetible el experimento.\n",
    "\n",
    "Evaluar sobre el conjunto de **entrenamiento** y sobre el conjunto de **evaluación**, reportando:\n",
    "- Accuracy\n",
    "- Precision\n",
    "- Recall\n",
    "- F1\n",
    "- matriz de confusión\n"
   ]
  },
  {
   "cell_type": "markdown",
   "metadata": {},
   "source": [
    "### Ejercicio 3.2: Ajuste de Hiperparámetros\n",
    "\n",
    "Seleccionar valores para los hiperparámetros principales del DecisionTreeClassifier. Como mínimo, probar diferentes criterios de partición (criterion), profundidad máxima del árbol (max_depth), y cantidad mínima de samples por hoja (min_samples_leaf).\n",
    "\n",
    "Para ello, usar grid-search y 5-fold cross-validation sobre el conjunto de entrenamiento para explorar muchas combinaciones posibles de valores.\n",
    "\n",
    "Reportar accuracy promedio y varianza para todas las configuraciones.\n",
    "\n",
    "Para la mejor configuración encontrada, evaluar sobre el conjunto de **entrenamiento** y sobre el conjunto de **evaluación**, reportando:\n",
    "- Accuracy\n",
    "- Precision\n",
    "- Recall\n",
    "- F1\n",
    "- matriz de confusión\n",
    "\n",
    "\n",
    "Documentación:\n",
    "- https://scikit-learn.org/stable/modules/grid_search.html\n",
    "- https://scikit-learn.org/stable/modules/generated/sklearn.model_selection.GridSearchCV.html"
   ]
  }
 ],
 "metadata": {
  "kernelspec": {
   "display_name": "Python 3",
   "language": "python",
   "name": "python3"
  },
  "language_info": {
   "codemirror_mode": {
    "name": "ipython",
    "version": 3
   },
   "file_extension": ".py",
   "mimetype": "text/x-python",
   "name": "python",
   "nbconvert_exporter": "python",
   "pygments_lexer": "ipython3",
   "version": "3.8.5"
  }
 },
 "nbformat": 4,
 "nbformat_minor": 4
}
